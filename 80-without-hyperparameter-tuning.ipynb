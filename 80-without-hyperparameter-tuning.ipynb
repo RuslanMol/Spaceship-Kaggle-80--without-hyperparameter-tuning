{
 "cells": [
  {
   "cell_type": "code",
   "execution_count": 1,
   "id": "d0928ec7",
   "metadata": {
    "_cell_guid": "b1076dfc-b9ad-4769-8c92-a6c4dae69d19",
    "_uuid": "8f2839f25d086af736a60e9eeb907d3b93b6e0e5",
    "execution": {
     "iopub.execute_input": "2022-12-17T04:28:54.031538Z",
     "iopub.status.busy": "2022-12-17T04:28:54.030794Z",
     "iopub.status.idle": "2022-12-17T04:28:55.487268Z",
     "shell.execute_reply": "2022-12-17T04:28:55.485913Z"
    },
    "papermill": {
     "duration": 1.48872,
     "end_time": "2022-12-17T04:28:55.491107",
     "exception": false,
     "start_time": "2022-12-17T04:28:54.002387",
     "status": "completed"
    },
    "tags": []
   },
   "outputs": [],
   "source": [
    "# отключим всякие предупреждения Anaconda\n",
    "import warnings\n",
    "warnings.filterwarnings('ignore')\n",
    "%matplotlib inline\n",
    "import numpy as np\n",
    "import pandas as pd\n",
    "import seaborn as sns\n",
    "from matplotlib import pyplot as plt\n",
    "pd.options.display.float_format = '{:,.2f}'.format\n",
    "df_train=pd.read_csv(\"/kaggle/input/spaceship-titanic/train.csv\")\n",
    "df_test=pd.read_csv(\"/kaggle/input/spaceship-titanic/test.csv\")\n",
    "\n",
    "pd.options.display.float_format = '{:,.2f}'.format\n",
    "np.set_printoptions(precision=2)"
   ]
  },
  {
   "cell_type": "markdown",
   "id": "71d1c282",
   "metadata": {
    "papermill": {
     "duration": 0.019632,
     "end_time": "2022-12-17T04:28:55.531719",
     "exception": false,
     "start_time": "2022-12-17T04:28:55.512087",
     "status": "completed"
    },
    "tags": []
   },
   "source": [
    "#### We break the main rule! We combine the test and training part.Because there is only one ship and the passengers from the general groups ended up in different parts."
   ]
  },
  {
   "cell_type": "code",
   "execution_count": 2,
   "id": "92f8b8cf",
   "metadata": {
    "execution": {
     "iopub.execute_input": "2022-12-17T04:28:55.573216Z",
     "iopub.status.busy": "2022-12-17T04:28:55.572356Z",
     "iopub.status.idle": "2022-12-17T04:28:55.629225Z",
     "shell.execute_reply": "2022-12-17T04:28:55.627675Z"
    },
    "papermill": {
     "duration": 0.08096,
     "end_time": "2022-12-17T04:28:55.632199",
     "exception": false,
     "start_time": "2022-12-17T04:28:55.551239",
     "status": "completed"
    },
    "tags": []
   },
   "outputs": [
    {
     "data": {
      "text/html": [
       "<div>\n",
       "<style scoped>\n",
       "    .dataframe tbody tr th:only-of-type {\n",
       "        vertical-align: middle;\n",
       "    }\n",
       "\n",
       "    .dataframe tbody tr th {\n",
       "        vertical-align: top;\n",
       "    }\n",
       "\n",
       "    .dataframe thead th {\n",
       "        text-align: right;\n",
       "    }\n",
       "</style>\n",
       "<table border=\"1\" class=\"dataframe\">\n",
       "  <thead>\n",
       "    <tr style=\"text-align: right;\">\n",
       "      <th></th>\n",
       "      <th>PassengerId</th>\n",
       "      <th>HomePlanet</th>\n",
       "      <th>CryoSleep</th>\n",
       "      <th>Cabin</th>\n",
       "      <th>Destination</th>\n",
       "      <th>Age</th>\n",
       "      <th>VIP</th>\n",
       "      <th>RoomService</th>\n",
       "      <th>FoodCourt</th>\n",
       "      <th>ShoppingMall</th>\n",
       "      <th>Spa</th>\n",
       "      <th>VRDeck</th>\n",
       "      <th>Name</th>\n",
       "    </tr>\n",
       "  </thead>\n",
       "  <tbody>\n",
       "    <tr>\n",
       "      <th>0</th>\n",
       "      <td>0001_01</td>\n",
       "      <td>Europa</td>\n",
       "      <td>False</td>\n",
       "      <td>B/0/P</td>\n",
       "      <td>TRAPPIST-1e</td>\n",
       "      <td>39.00</td>\n",
       "      <td>False</td>\n",
       "      <td>0.00</td>\n",
       "      <td>0.00</td>\n",
       "      <td>0.00</td>\n",
       "      <td>0.00</td>\n",
       "      <td>0.00</td>\n",
       "      <td>Maham Ofracculy</td>\n",
       "    </tr>\n",
       "    <tr>\n",
       "      <th>1</th>\n",
       "      <td>0002_01</td>\n",
       "      <td>Earth</td>\n",
       "      <td>False</td>\n",
       "      <td>F/0/S</td>\n",
       "      <td>TRAPPIST-1e</td>\n",
       "      <td>24.00</td>\n",
       "      <td>False</td>\n",
       "      <td>109.00</td>\n",
       "      <td>9.00</td>\n",
       "      <td>25.00</td>\n",
       "      <td>549.00</td>\n",
       "      <td>44.00</td>\n",
       "      <td>Juanna Vines</td>\n",
       "    </tr>\n",
       "    <tr>\n",
       "      <th>2</th>\n",
       "      <td>0003_01</td>\n",
       "      <td>Europa</td>\n",
       "      <td>False</td>\n",
       "      <td>A/0/S</td>\n",
       "      <td>TRAPPIST-1e</td>\n",
       "      <td>58.00</td>\n",
       "      <td>True</td>\n",
       "      <td>43.00</td>\n",
       "      <td>3,576.00</td>\n",
       "      <td>0.00</td>\n",
       "      <td>6,715.00</td>\n",
       "      <td>49.00</td>\n",
       "      <td>Altark Susent</td>\n",
       "    </tr>\n",
       "    <tr>\n",
       "      <th>3</th>\n",
       "      <td>0003_02</td>\n",
       "      <td>Europa</td>\n",
       "      <td>False</td>\n",
       "      <td>A/0/S</td>\n",
       "      <td>TRAPPIST-1e</td>\n",
       "      <td>33.00</td>\n",
       "      <td>False</td>\n",
       "      <td>0.00</td>\n",
       "      <td>1,283.00</td>\n",
       "      <td>371.00</td>\n",
       "      <td>3,329.00</td>\n",
       "      <td>193.00</td>\n",
       "      <td>Solam Susent</td>\n",
       "    </tr>\n",
       "    <tr>\n",
       "      <th>4</th>\n",
       "      <td>0004_01</td>\n",
       "      <td>Earth</td>\n",
       "      <td>False</td>\n",
       "      <td>F/1/S</td>\n",
       "      <td>TRAPPIST-1e</td>\n",
       "      <td>16.00</td>\n",
       "      <td>False</td>\n",
       "      <td>303.00</td>\n",
       "      <td>70.00</td>\n",
       "      <td>151.00</td>\n",
       "      <td>565.00</td>\n",
       "      <td>2.00</td>\n",
       "      <td>Willy Santantines</td>\n",
       "    </tr>\n",
       "  </tbody>\n",
       "</table>\n",
       "</div>"
      ],
      "text/plain": [
       "  PassengerId HomePlanet CryoSleep  Cabin  Destination   Age    VIP  \\\n",
       "0     0001_01     Europa     False  B/0/P  TRAPPIST-1e 39.00  False   \n",
       "1     0002_01      Earth     False  F/0/S  TRAPPIST-1e 24.00  False   \n",
       "2     0003_01     Europa     False  A/0/S  TRAPPIST-1e 58.00   True   \n",
       "3     0003_02     Europa     False  A/0/S  TRAPPIST-1e 33.00  False   \n",
       "4     0004_01      Earth     False  F/1/S  TRAPPIST-1e 16.00  False   \n",
       "\n",
       "   RoomService  FoodCourt  ShoppingMall      Spa  VRDeck               Name  \n",
       "0         0.00       0.00          0.00     0.00    0.00    Maham Ofracculy  \n",
       "1       109.00       9.00         25.00   549.00   44.00       Juanna Vines  \n",
       "2        43.00   3,576.00          0.00 6,715.00   49.00      Altark Susent  \n",
       "3         0.00   1,283.00        371.00 3,329.00  193.00       Solam Susent  \n",
       "4       303.00      70.00        151.00   565.00    2.00  Willy Santantines  "
      ]
     },
     "execution_count": 2,
     "metadata": {},
     "output_type": "execute_result"
    }
   ],
   "source": [
    "df_train = pd.concat([df_train.drop(['Transported'], axis=1), df_test], axis=0,)\n",
    "df_train.reset_index(drop= True , inplace= True)\n",
    "\n",
    "combine = [df_train]\n",
    "df_train.head()"
   ]
  },
  {
   "cell_type": "code",
   "execution_count": 3,
   "id": "97460011",
   "metadata": {
    "execution": {
     "iopub.execute_input": "2022-12-17T04:28:55.680055Z",
     "iopub.status.busy": "2022-12-17T04:28:55.679000Z",
     "iopub.status.idle": "2022-12-17T04:28:55.732592Z",
     "shell.execute_reply": "2022-12-17T04:28:55.730885Z"
    },
    "papermill": {
     "duration": 0.082491,
     "end_time": "2022-12-17T04:28:55.737018",
     "exception": false,
     "start_time": "2022-12-17T04:28:55.654527",
     "status": "completed"
    },
    "tags": []
   },
   "outputs": [],
   "source": [
    "# Since we removed the target from our training set. We make a helper function.\n",
    "Target = pd.read_csv(\"/kaggle/input/spaceship-titanic/train.csv\")\n",
    "def update(TargetUpdate):\n",
    "    tempdf = df_train[:8693].copy()\n",
    "    TargetUpdate = pd.concat([tempdf, TargetUpdate['Transported']], axis = 1)\n",
    "    return TargetUpdate"
   ]
  },
  {
   "cell_type": "code",
   "execution_count": 4,
   "id": "1341f50f",
   "metadata": {
    "execution": {
     "iopub.execute_input": "2022-12-17T04:28:55.783095Z",
     "iopub.status.busy": "2022-12-17T04:28:55.782659Z",
     "iopub.status.idle": "2022-12-17T04:28:56.039373Z",
     "shell.execute_reply": "2022-12-17T04:28:56.037896Z"
    },
    "papermill": {
     "duration": 0.283889,
     "end_time": "2022-12-17T04:28:56.043275",
     "exception": false,
     "start_time": "2022-12-17T04:28:55.759386",
     "status": "completed"
    },
    "tags": []
   },
   "outputs": [],
   "source": [
    "# We divide our signs and create new ones. \n",
    "# Later it turns out that half of them are not needed. But I want to share my train of thought.\n",
    "\n",
    "from collections import Counter\n",
    "for dataset in combine:\n",
    "    dataset['ID1'] = dataset.PassengerId.str.split(\"_\", n=1, expand=True)[0]\n",
    "    dataset['ID2'] = dataset.PassengerId.str.split(\"_\", n=1, expand=True)[1]\n",
    "    dataset['ID1'] = dataset.PassengerId.str.split(\"_\", n=1, expand=True)[0]\n",
    "    CountID = Counter(dataset['ID1'])\n",
    "    dataset['ID1_count'] = dataset['ID1'].map(CountID)\n",
    "    dataset['ID1'] = dataset['ID1'].astype(int)\n",
    "    dataset['ID2'] = dataset['ID2'].astype(int)\n",
    "    dataset['Name1'] = dataset.Name.str.split(\" \", n=1, expand=True)[0]\n",
    "    CountName1 = Counter(dataset['Name1'])\n",
    "    dataset['Name1Count'] = dataset['Name1'].map(CountName1)\n",
    "    dataset['NameLen1'] = dataset['Name1'].str.count('\\S')\n",
    "    dataset['Name2'] = dataset.Name.str.split(\" \", n=1, expand=True)[1]\n",
    "    CountName2 = Counter(dataset['Name2'])\n",
    "    dataset['Name2Count'] = dataset['Name2'].map(CountName2)\n",
    "    dataset['NameLen2'] = dataset['Name2'].str.count('\\S')\n",
    "    dataset['NameLen'] =  dataset['NameLen1']+dataset['NameLen2']\n",
    "    dataset['VIP'] = dataset['VIP'].replace(np.nan, -1).astype(int)\n",
    "    dataset['VIP'] = dataset['VIP'].replace(-1, np.nan)\n",
    "    dataset['CryoSleep'] = dataset['CryoSleep'].replace(np.nan, -1).astype(int)\n",
    "    dataset['CryoSleep'] = dataset['CryoSleep'].replace(-1, np.nan)\n",
    "    dataset.drop(['PassengerId','Name'], axis = 1 , inplace = True)"
   ]
  },
  {
   "cell_type": "markdown",
   "id": "cce61884",
   "metadata": {
    "papermill": {
     "duration": 0.020481,
     "end_time": "2022-12-17T04:28:56.083636",
     "exception": false,
     "start_time": "2022-12-17T04:28:56.063155",
     "status": "completed"
    },
    "tags": []
   },
   "source": [
    "# CABIN"
   ]
  },
  {
   "cell_type": "markdown",
   "id": "45ae6b68",
   "metadata": {
    "papermill": {
     "duration": 0.020453,
     "end_time": "2022-12-17T04:28:56.124927",
     "exception": false,
     "start_time": "2022-12-17T04:28:56.104474",
     "status": "completed"
    },
    "tags": []
   },
   "source": [
    "### People who flew in the same group are likely to fly in the same cabin, so we are looking for the cabin number."
   ]
  },
  {
   "cell_type": "code",
   "execution_count": 5,
   "id": "dd5e535e",
   "metadata": {
    "execution": {
     "iopub.execute_input": "2022-12-17T04:28:56.164496Z",
     "iopub.status.busy": "2022-12-17T04:28:56.164049Z",
     "iopub.status.idle": "2022-12-17T04:28:56.198342Z",
     "shell.execute_reply": "2022-12-17T04:28:56.196840Z"
    },
    "papermill": {
     "duration": 0.057517,
     "end_time": "2022-12-17T04:28:56.201308",
     "exception": false,
     "start_time": "2022-12-17T04:28:56.143791",
     "status": "completed"
    },
    "tags": []
   },
   "outputs": [
    {
     "name": "stdout",
     "output_type": "stream",
     "text": [
      "#Lost Before: 299\n",
      "#Lost After: 162\n"
     ]
    }
   ],
   "source": [
    "print('#Lost Before:', df_train['Cabin'].isnull().sum())\n",
    "CabinValue = df_train[df_train['Cabin'].notnull()][['ID1','Cabin']]\n",
    "CabinDict = dict(zip(CabinValue['ID1'], CabinValue['Cabin']))\n",
    "for dataset in combine:\n",
    "    index = dataset.loc[(dataset['Cabin'].isnull())].index\n",
    "    dataset.loc[index, 'Cabin'] = dataset.iloc[index,:]['ID1'].map(CabinDict)\n",
    "print('#Lost After:', df_train['Cabin'].isnull().sum())"
   ]
  },
  {
   "cell_type": "markdown",
   "id": "2151e679",
   "metadata": {
    "papermill": {
     "duration": 0.018857,
     "end_time": "2022-12-17T04:28:56.239875",
     "exception": false,
     "start_time": "2022-12-17T04:28:56.221018",
     "status": "completed"
    },
    "tags": []
   },
   "source": [
    "### The same situation with namesakes."
   ]
  },
  {
   "cell_type": "code",
   "execution_count": 6,
   "id": "aaf87b1a",
   "metadata": {
    "execution": {
     "iopub.execute_input": "2022-12-17T04:28:56.280500Z",
     "iopub.status.busy": "2022-12-17T04:28:56.280011Z",
     "iopub.status.idle": "2022-12-17T04:28:56.309795Z",
     "shell.execute_reply": "2022-12-17T04:28:56.307880Z"
    },
    "papermill": {
     "duration": 0.05407,
     "end_time": "2022-12-17T04:28:56.313211",
     "exception": false,
     "start_time": "2022-12-17T04:28:56.259141",
     "status": "completed"
    },
    "tags": []
   },
   "outputs": [
    {
     "name": "stdout",
     "output_type": "stream",
     "text": [
      "#Lost Before: 162\n",
      "#Lost After: 5\n"
     ]
    }
   ],
   "source": [
    "print('#Lost Before:', df_train['Cabin'].isnull().sum())\n",
    "NameValue = df_train[(df_train['Cabin'].notnull())&(df_train['Name2'].notnull())][['Name2','Cabin']]\n",
    "NameDict = dict(zip(NameValue['Name2'], NameValue['Cabin']))\n",
    "for dataset in combine:\n",
    "    index = dataset.loc[(dataset['Cabin'].isnull())].index\n",
    "    dataset.loc[index, 'Cabin'] = dataset.iloc[index,:]['Name2'].map(NameDict)\n",
    "print('#Lost After:', df_train['Cabin'].isnull().sum())"
   ]
  },
  {
   "cell_type": "code",
   "execution_count": 7,
   "id": "484ffb37",
   "metadata": {
    "execution": {
     "iopub.execute_input": "2022-12-17T04:28:56.355051Z",
     "iopub.status.busy": "2022-12-17T04:28:56.354593Z",
     "iopub.status.idle": "2022-12-17T04:28:56.364422Z",
     "shell.execute_reply": "2022-12-17T04:28:56.363228Z"
    },
    "papermill": {
     "duration": 0.033802,
     "end_time": "2022-12-17T04:28:56.366865",
     "exception": false,
     "start_time": "2022-12-17T04:28:56.333063",
     "status": "completed"
    },
    "tags": []
   },
   "outputs": [
    {
     "name": "stdout",
     "output_type": "stream",
     "text": [
      "#Lost After: 0\n"
     ]
    }
   ],
   "source": [
    "# The rest of the values ​​are entered at random.\n",
    "df_train['Cabin'].fillna('E/500/S',inplace=True)\n",
    "print('#Lost After:', df_train['Cabin'].isnull().sum())"
   ]
  },
  {
   "cell_type": "markdown",
   "id": "19bad9f5",
   "metadata": {
    "papermill": {
     "duration": 0.019263,
     "end_time": "2022-12-17T04:28:56.406220",
     "exception": false,
     "start_time": "2022-12-17T04:28:56.386957",
     "status": "completed"
    },
    "tags": []
   },
   "source": [
    "# We create a new sign (the ratio of the group to the cabin number)"
   ]
  },
  {
   "cell_type": "code",
   "execution_count": 8,
   "id": "fdbddc71",
   "metadata": {
    "execution": {
     "iopub.execute_input": "2022-12-17T04:28:56.448641Z",
     "iopub.status.busy": "2022-12-17T04:28:56.448191Z",
     "iopub.status.idle": "2022-12-17T04:28:56.711974Z",
     "shell.execute_reply": "2022-12-17T04:28:56.710758Z"
    },
    "papermill": {
     "duration": 0.288728,
     "end_time": "2022-12-17T04:28:56.715098",
     "exception": false,
     "start_time": "2022-12-17T04:28:56.426370",
     "status": "completed"
    },
    "tags": []
   },
   "outputs": [],
   "source": [
    "for dataset in combine:\n",
    "    dataset['Cabin1'] = dataset.Cabin.str.split(\"/\", n=2, expand=True)[0]\n",
    "    dataset['Cabin2'] = dataset.Cabin.str.split(\"/\", n=2, expand=True)[1]\n",
    "    dataset['Cabin2'] = dataset['Cabin2'].replace(np.nan, -1).astype(int)\n",
    "    dataset['Cabin2'] = dataset['Cabin2'].replace(-1, np.nan)\n",
    "    dataset['Cabin3'] = dataset.Cabin.str.split(\"/\", n=2, expand=True)[2]\n",
    "    dataset['Cabin3'] = dataset['Cabin3'].map({'S':1, \"P\":0}) \n",
    "    dataset['RatioIDCabin'] = dataset['ID1']/dataset['Cabin2']"
   ]
  },
  {
   "cell_type": "markdown",
   "id": "8535dca2",
   "metadata": {
    "papermill": {
     "duration": 0.019635,
     "end_time": "2022-12-17T04:28:56.755328",
     "exception": false,
     "start_time": "2022-12-17T04:28:56.735693",
     "status": "completed"
    },
    "tags": []
   },
   "source": [
    "### We look at the effect of the cockpit on survival. This is where our help function comes in handy."
   ]
  },
  {
   "cell_type": "code",
   "execution_count": 9,
   "id": "a417d41c",
   "metadata": {
    "execution": {
     "iopub.execute_input": "2022-12-17T04:28:56.797074Z",
     "iopub.status.busy": "2022-12-17T04:28:56.796577Z",
     "iopub.status.idle": "2022-12-17T04:28:59.118049Z",
     "shell.execute_reply": "2022-12-17T04:28:59.116077Z"
    },
    "papermill": {
     "duration": 2.347069,
     "end_time": "2022-12-17T04:28:59.122011",
     "exception": false,
     "start_time": "2022-12-17T04:28:56.774942",
     "status": "completed"
    },
    "tags": []
   },
   "outputs": [
    {
     "data": {
      "image/png": "[encoded data removed]",
      "text/plain": [
       "<Figure size 720x1440 with 4 Axes>"
      ]
     },
     "metadata": {
      "needs_background": "light"
     },
     "output_type": "display_data"
    }
   ],
   "source": [
    "# # Plot distribution of new features\n",
    "Target = update(Target)\n",
    "fig=plt.figure(figsize=(10,20))\n",
    "plt.subplot(4,1,1)\n",
    "sns.countplot(data=Target, x='Cabin1', hue='Transported', \n",
    "              order=['A','B','C','D','E','F','G','T']\n",
    "             )\n",
    "plt.title('Cabin1')\n",
    "\n",
    "plt.subplot(4,1,2)\n",
    "sns.histplot(data=Target, x='Cabin2', hue='Transported',binwidth=20)\n",
    "plt.vlines(300, ymin=0, ymax=200, color='black')\n",
    "plt.vlines(600, ymin=0, ymax=200, color='black')\n",
    "plt.vlines(900, ymin=0, ymax=200, color='black')\n",
    "plt.vlines(1200, ymin=0, ymax=200, color='black')\n",
    "plt.title('Cabin number')\n",
    "plt.xlim([0,2000])\n",
    "\n",
    "plt.subplot(4,1,3)\n",
    "sns.countplot(data=Target, x='Cabin3', hue='Transported')\n",
    "plt.title('Cabin side')\n",
    "fig.tight_layout()\n",
    "\n",
    "plt.subplot(4,1,4)\n",
    "sns.histplot(data=Target, x='RatioIDCabin', hue='Transported',binwidth=20)\n",
    "plt.vlines(20, ymin=0, ymax=3500, color='black')\n",
    "plt.title('Cabin number')\n",
    "plt.xlim([0,45]);"
   ]
  },
  {
   "cell_type": "code",
   "execution_count": 10,
   "id": "23acd404",
   "metadata": {
    "execution": {
     "iopub.execute_input": "2022-12-17T04:28:59.168959Z",
     "iopub.status.busy": "2022-12-17T04:28:59.168490Z",
     "iopub.status.idle": "2022-12-17T04:28:59.590192Z",
     "shell.execute_reply": "2022-12-17T04:28:59.588729Z"
    },
    "papermill": {
     "duration": 0.449806,
     "end_time": "2022-12-17T04:28:59.593663",
     "exception": false,
     "start_time": "2022-12-17T04:28:59.143857",
     "status": "completed"
    },
    "tags": []
   },
   "outputs": [
    {
     "data": {
      "image/png": "[encoded data removed]",
      "text/plain": [
       "<Figure size 720x216 with 1 Axes>"
      ]
     },
     "metadata": {
      "needs_background": "light"
     },
     "output_type": "display_data"
    },
    {
     "data": {
      "image/png": "[encoded data removed]",
      "text/plain": [
       "<Figure size 720x216 with 1 Axes>"
      ]
     },
     "metadata": {
      "needs_background": "light"
     },
     "output_type": "display_data"
    }
   ],
   "source": [
    "# Converting to binary features\n",
    "for dataset in combine:\n",
    "    dataset['RatioIDCabin'] = dataset['RatioIDCabin'].apply(lambda x: 1 if x >20 else 0)\n",
    "    dataset['CabinCategory']  = np.nan\n",
    "    for i in range(7):\n",
    "        dataset.loc[(dataset['Cabin2'] >= 300*i) & (dataset['Cabin2'] < 300*(i+1)),'CabinCategory'] = (i+1)\n",
    "    dataset['CabinCategory'] = dataset['CabinCategory'].apply(lambda x: 1 if x in {1,3,4} else 0)\n",
    "    \n",
    "Target = update(Target)\n",
    "fig=plt.figure(figsize=(10,3))\n",
    "plt.subplot(2,1,1)\n",
    "sns.countplot(data=Target, x='RatioIDCabin', hue='Transported');\n",
    "\n",
    "fig=plt.figure(figsize=(10,3))\n",
    "plt.subplot(2,1,2)\n",
    "sns.countplot(data=Target, x='CabinCategory', hue='Transported');"
   ]
  },
  {
   "cell_type": "markdown",
   "id": "ef840469",
   "metadata": {
    "papermill": {
     "duration": 0.021694,
     "end_time": "2022-12-17T04:28:59.638488",
     "exception": false,
     "start_time": "2022-12-17T04:28:59.616794",
     "status": "completed"
    },
    "tags": []
   },
   "source": [
    "# HOMEPLANET"
   ]
  },
  {
   "cell_type": "code",
   "execution_count": 11,
   "id": "c7269b6c",
   "metadata": {
    "execution": {
     "iopub.execute_input": "2022-12-17T04:28:59.686007Z",
     "iopub.status.busy": "2022-12-17T04:28:59.685106Z",
     "iopub.status.idle": "2022-12-17T04:29:00.080533Z",
     "shell.execute_reply": "2022-12-17T04:29:00.079066Z"
    },
    "papermill": {
     "duration": 0.422948,
     "end_time": "2022-12-17T04:29:00.083517",
     "exception": false,
     "start_time": "2022-12-17T04:28:59.660569",
     "status": "completed"
    },
    "tags": []
   },
   "outputs": [
    {
     "name": "stdout",
     "output_type": "stream",
     "text": [
      "HomePlanet  Earth  Europa  Mars\n",
      "Cabin1                         \n",
      "A               0     355     0\n",
      "B               0    1157     0\n",
      "C               0    1111     0\n",
      "D               0     300   418\n",
      "E             604     200   524\n",
      "F            2473       0  1742\n",
      "G            3788       0     0\n",
      "T               0      10     0\n"
     ]
    },
    {
     "data": {
      "image/png": "[encoded data removed]",
      "text/plain": [
       "<Figure size 1080x216 with 1 Axes>"
      ]
     },
     "metadata": {
      "needs_background": "light"
     },
     "output_type": "display_data"
    }
   ],
   "source": [
    "fig=plt.figure(figsize=(15,3))\n",
    "plt.subplot(1,1,1)\n",
    "\n",
    "sns.countplot(data=Target, x='Cabin1', hue='HomePlanet', order=['A','B','C','D','E','F','G','T']);\n",
    "print(pd.crosstab(df_train['Cabin1'], df_train['HomePlanet'])) "
   ]
  },
  {
   "cell_type": "code",
   "execution_count": 12,
   "id": "2566a3dd",
   "metadata": {
    "execution": {
     "iopub.execute_input": "2022-12-17T04:29:00.128388Z",
     "iopub.status.busy": "2022-12-17T04:29:00.127848Z",
     "iopub.status.idle": "2022-12-17T04:29:00.235494Z",
     "shell.execute_reply": "2022-12-17T04:29:00.233499Z"
    },
    "papermill": {
     "duration": 0.134237,
     "end_time": "2022-12-17T04:29:00.238852",
     "exception": false,
     "start_time": "2022-12-17T04:29:00.104615",
     "status": "completed"
    },
    "tags": []
   },
   "outputs": [
    {
     "name": "stdout",
     "output_type": "stream",
     "text": [
      "#Lost after: 288\n",
      "#Lost before: 158\n"
     ]
    }
   ],
   "source": [
    "print('#Lost after:', df_train['HomePlanet'].isnull().sum())\n",
    "for dataset in combine:\n",
    "    CabEuropa = {'A', 'B', 'C','T'}\n",
    "    indexHomeCab1G = dataset.loc[(df_train['Cabin1'].isin(CabEuropa)) & (df_train['HomePlanet'].isnull())].index\n",
    "    for i in indexHomeCab1G:\n",
    "        dataset.loc[dataset['HomePlanet'].index == i, 'HomePlanet'] = 'Europa'\n",
    "    CabEarth = {'G'}\n",
    "    indexHomeCab1G = dataset.loc[(df_train['Cabin1'].isin(CabEarth)) & (df_train['HomePlanet'].isnull())].index\n",
    "    for i in indexHomeCab1G:\n",
    "        dataset.loc[dataset['HomePlanet'].index == i, 'HomePlanet'] = 'Earth'\n",
    "print('#Lost before:', df_train['HomePlanet'].isnull().sum())"
   ]
  },
  {
   "cell_type": "markdown",
   "id": "31176abb",
   "metadata": {
    "papermill": {
     "duration": 0.021246,
     "end_time": "2022-12-17T04:29:00.282850",
     "exception": false,
     "start_time": "2022-12-17T04:29:00.261604",
     "status": "completed"
    },
    "tags": []
   },
   "source": [
    "### People from the same group, in the same cabin and namesakes very often start from the same planet"
   ]
  },
  {
   "cell_type": "code",
   "execution_count": 13,
   "id": "5bc2f553",
   "metadata": {
    "execution": {
     "iopub.execute_input": "2022-12-17T04:29:00.327500Z",
     "iopub.status.busy": "2022-12-17T04:29:00.326985Z",
     "iopub.status.idle": "2022-12-17T04:29:25.622872Z",
     "shell.execute_reply": "2022-12-17T04:29:25.620595Z"
    },
    "papermill": {
     "duration": 25.322673,
     "end_time": "2022-12-17T04:29:25.626764",
     "exception": false,
     "start_time": "2022-12-17T04:29:00.304091",
     "status": "completed"
    },
    "tags": []
   },
   "outputs": [
    {
     "name": "stdout",
     "output_type": "stream",
     "text": [
      "#Lost after: 158\n",
      "#Lost before: 10\n"
     ]
    }
   ],
   "source": [
    "print('#Lost after:', df_train['HomePlanet'].isnull().sum())\n",
    "PlanetName = dataset[dataset['HomePlanet'].notnull()]['HomePlanet'].unique() #Имеена планет\n",
    "for dataset in combine:\n",
    "    for i in PlanetName:\n",
    "        # ID = HomePlanet\n",
    "        Planet_ID = dataset.loc[(dataset['ID1'].notnull()) & (dataset['HomePlanet']==i)]['ID1'].values\n",
    "        IndexPlanet = dataset.loc[(dataset['ID1'].isin(Planet_ID))].index\n",
    "        for ii in IndexPlanet:\n",
    "            dataset.loc[dataset['HomePlanet'].index == ii, 'HomePlanet'] = i\n",
    "        # Cabin = HomePlanet\n",
    "        Planet_ID = dataset.loc[(dataset['Cabin'].notnull()) & (dataset['HomePlanet']==i)]['Cabin'].values\n",
    "        IndexPlanet = dataset.loc[(dataset['Cabin'].isin(Planet_ID))].index\n",
    "        for ii in IndexPlanet:\n",
    "            dataset.loc[dataset['HomePlanet'].index == ii, 'HomePlanet'] = i\n",
    "        # SecondName = HomePlanet\n",
    "        Planet_ID = dataset.loc[(dataset['Name2'].notnull()) & (dataset['HomePlanet']==i)]['Name2'].values\n",
    "        IndexPlanet = dataset.loc[(dataset['Name2'].isin(Planet_ID))].index\n",
    "        for ii in IndexPlanet:\n",
    "            dataset.loc[dataset['HomePlanet'].index == ii, 'HomePlanet'] = i\n",
    "print('#Lost before:', df_train['HomePlanet'].isnull().sum())\n",
    "df_train.drop(['Cabin'],axis=1, inplace = True)"
   ]
  },
  {
   "cell_type": "code",
   "execution_count": 14,
   "id": "69e70fc9",
   "metadata": {
    "execution": {
     "iopub.execute_input": "2022-12-17T04:29:25.672338Z",
     "iopub.status.busy": "2022-12-17T04:29:25.671839Z",
     "iopub.status.idle": "2022-12-17T04:29:25.699022Z",
     "shell.execute_reply": "2022-12-17T04:29:25.696497Z"
    },
    "papermill": {
     "duration": 0.053803,
     "end_time": "2022-12-17T04:29:25.702539",
     "exception": false,
     "start_time": "2022-12-17T04:29:25.648736",
     "status": "completed"
    },
    "tags": []
   },
   "outputs": [
    {
     "name": "stdout",
     "output_type": "stream",
     "text": [
      "#Lost after: 10\n",
      "#Lost before: 0\n"
     ]
    }
   ],
   "source": [
    "### The remaining planets will be filled with an error\n",
    "print('#Lost after:', df_train['HomePlanet'].isnull().sum())\n",
    "for dataset in combine:\n",
    "    indexHomeCab1D = dataset.loc[(df_train['Cabin1'].isin({'D','E'})) & (df_train['HomePlanet'].isnull())].index\n",
    "    for i in indexHomeCab1D:\n",
    "        dataset.loc[dataset['HomePlanet'].index == i, 'HomePlanet'] = 'Europa'\n",
    "    indexHomeCab = dataset.loc[(df_train['HomePlanet'].isnull())].index\n",
    "    for i in indexHomeCab:\n",
    "        dataset.loc[dataset['HomePlanet'].index == i, 'HomePlanet'] = 'Earth'\n",
    "print('#Lost before:', df_train['HomePlanet'].isnull().sum())"
   ]
  },
  {
   "cell_type": "markdown",
   "id": "10332c84",
   "metadata": {
    "papermill": {
     "duration": 0.023519,
     "end_time": "2022-12-17T04:29:25.750618",
     "exception": false,
     "start_time": "2022-12-17T04:29:25.727099",
     "status": "completed"
    },
    "tags": []
   },
   "source": [
    "# Name"
   ]
  },
  {
   "cell_type": "markdown",
   "id": "79fc4a41",
   "metadata": {
    "papermill": {
     "duration": 0.024151,
     "end_time": "2022-12-17T04:29:25.797294",
     "exception": false,
     "start_time": "2022-12-17T04:29:25.773143",
     "status": "completed"
    },
    "tags": []
   },
   "source": [
    "### According to Google, female names end in 'e','a','y'. We are trying to separate men and women. Question for reflection, how to separate the names of the Martians ... do they have a gender?"
   ]
  },
  {
   "cell_type": "code",
   "execution_count": 15,
   "id": "7fdfe48b",
   "metadata": {
    "execution": {
     "iopub.execute_input": "2022-12-17T04:29:25.842225Z",
     "iopub.status.busy": "2022-12-17T04:29:25.841733Z",
     "iopub.status.idle": "2022-12-17T04:29:28.467554Z",
     "shell.execute_reply": "2022-12-17T04:29:28.465886Z"
    },
    "papermill": {
     "duration": 2.651819,
     "end_time": "2022-12-17T04:29:28.470450",
     "exception": false,
     "start_time": "2022-12-17T04:29:25.818631",
     "status": "completed"
    },
    "tags": []
   },
   "outputs": [],
   "source": [
    "name = df_train[df_train['Name1'].notnull()]['Name1'].values\n",
    "suffix = ('e','a','y')\n",
    "female = [f for f in name if f.endswith(suffix)]\n",
    "for dataset in combine:\n",
    "    index = dataset.loc[(dataset['Name1'].isin(female))].index\n",
    "    dataset['NameSex'] = 0\n",
    "    for i in index:\n",
    "        dataset.loc[dataset['Name1'].index == i, 'NameSex'] = 1\n",
    "df_train.drop(['Name1', 'Name2'], axis = 1 , inplace = True)"
   ]
  },
  {
   "cell_type": "code",
   "execution_count": 16,
   "id": "44d31064",
   "metadata": {
    "execution": {
     "iopub.execute_input": "2022-12-17T04:29:28.515823Z",
     "iopub.status.busy": "2022-12-17T04:29:28.515364Z",
     "iopub.status.idle": "2022-12-17T04:29:30.658879Z",
     "shell.execute_reply": "2022-12-17T04:29:30.657524Z"
    },
    "papermill": {
     "duration": 2.17015,
     "end_time": "2022-12-17T04:29:30.661716",
     "exception": false,
     "start_time": "2022-12-17T04:29:28.491566",
     "status": "completed"
    },
    "tags": []
   },
   "outputs": [
    {
     "data": {
      "image/png": "[encoded data removed]",
      "text/plain": [
       "<Figure size 720x864 with 1 Axes>"
      ]
     },
     "metadata": {
      "needs_background": "light"
     },
     "output_type": "display_data"
    },
    {
     "data": {
      "image/png": "[encoded data removed]",
      "text/plain": [
       "<Figure size 720x864 with 1 Axes>"
      ]
     },
     "metadata": {
      "needs_background": "light"
     },
     "output_type": "display_data"
    },
    {
     "data": {
      "image/png": "[encoded data removed]",
      "text/plain": [
       "<Figure size 720x864 with 1 Axes>"
      ]
     },
     "metadata": {
      "needs_background": "light"
     },
     "output_type": "display_data"
    },
    {
     "data": {
      "image/png": "[encoded data removed]",
      "text/plain": [
       "<Figure size 720x864 with 1 Axes>"
      ]
     },
     "metadata": {
      "needs_background": "light"
     },
     "output_type": "display_data"
    },
    {
     "data": {
      "image/png": "[encoded data removed]",
      "text/plain": [
       "<Figure size 720x864 with 1 Axes>"
      ]
     },
     "metadata": {
      "needs_background": "light"
     },
     "output_type": "display_data"
    },
    {
     "data": {
      "image/png": "[encoded data removed]",
      "text/plain": [
       "<Figure size 720x864 with 1 Axes>"
      ]
     },
     "metadata": {
      "needs_background": "light"
     },
     "output_type": "display_data"
    }
   ],
   "source": [
    "Target = update(Target)\n",
    "Names = [f for f in Target.columns if 'Name' in f]\n",
    "for i, Name in enumerate(Names):\n",
    "    fig=plt.figure(figsize=(10,12))\n",
    "    plt.subplot(len(Names),1,(i+1))\n",
    "    sns.countplot(data=Target, x=Name, hue='Transported')\n",
    "    plt.title(Name)"
   ]
  },
  {
   "cell_type": "code",
   "execution_count": 17,
   "id": "816e3cc0",
   "metadata": {
    "execution": {
     "iopub.execute_input": "2022-12-17T04:29:30.712160Z",
     "iopub.status.busy": "2022-12-17T04:29:30.711678Z",
     "iopub.status.idle": "2022-12-17T04:29:31.697891Z",
     "shell.execute_reply": "2022-12-17T04:29:31.696249Z"
    },
    "papermill": {
     "duration": 1.01612,
     "end_time": "2022-12-17T04:29:31.701725",
     "exception": false,
     "start_time": "2022-12-17T04:29:30.685605",
     "status": "completed"
    },
    "tags": []
   },
   "outputs": [
    {
     "data": {
      "image/png": "[encoded data removed]",
      "text/plain": [
       "<Figure size 720x864 with 1 Axes>"
      ]
     },
     "metadata": {
      "needs_background": "light"
     },
     "output_type": "display_data"
    },
    {
     "data": {
      "image/png": "[encoded data removed]",
      "text/plain": [
       "<Figure size 720x864 with 1 Axes>"
      ]
     },
     "metadata": {
      "needs_background": "light"
     },
     "output_type": "display_data"
    },
    {
     "data": {
      "image/png": "[encoded data removed]",
      "text/plain": [
       "<Figure size 720x864 with 1 Axes>"
      ]
     },
     "metadata": {
      "needs_background": "light"
     },
     "output_type": "display_data"
    },
    {
     "data": {
      "image/png": "[encoded data removed]",
      "text/plain": [
       "<Figure size 720x864 with 1 Axes>"
      ]
     },
     "metadata": {
      "needs_background": "light"
     },
     "output_type": "display_data"
    },
    {
     "data": {
      "image/png": "[encoded data removed]",
      "text/plain": [
       "<Figure size 720x864 with 1 Axes>"
      ]
     },
     "metadata": {
      "needs_background": "light"
     },
     "output_type": "display_data"
    }
   ],
   "source": [
    "# Converting to binary features\n",
    "for dataset in combine:\n",
    "    dataset['Name1Count'] = dataset['Name1Count'].apply(lambda x: 1 if x <=6 else 0)\n",
    "    dataset['NameLen1'] = dataset['NameLen1'].apply(lambda x: 1 if x==7 else 0)\n",
    "    dataset['Name2Count'] = dataset['Name2Count'].apply(lambda x: 1 if x <=6 else 0)\n",
    "    dataset['NameLen'] = dataset['NameLen'].apply(lambda x: 1 if x in {8,9,13,14,15,16} else 0)\n",
    "    dataset.drop(['NameLen2'],axis =1, inplace = True)\n",
    "Target = update(Target)\n",
    "Names = [f for f in Target.columns if 'Name' in f]\n",
    "for i, Name in enumerate(Names):\n",
    "    fig=plt.figure(figsize=(10,12))\n",
    "    plt.subplot(len(Names),1,(i+1))\n",
    "    sns.countplot(data=Target, x=Name, hue='Transported')\n",
    "    plt.title(Name)"
   ]
  },
  {
   "cell_type": "code",
   "execution_count": 18,
   "id": "322516cc",
   "metadata": {
    "execution": {
     "iopub.execute_input": "2022-12-17T04:29:31.755743Z",
     "iopub.status.busy": "2022-12-17T04:29:31.755236Z",
     "iopub.status.idle": "2022-12-17T04:29:31.765226Z",
     "shell.execute_reply": "2022-12-17T04:29:31.762897Z"
    },
    "papermill": {
     "duration": 0.041429,
     "end_time": "2022-12-17T04:29:31.769030",
     "exception": false,
     "start_time": "2022-12-17T04:29:31.727601",
     "status": "completed"
    },
    "tags": []
   },
   "outputs": [
    {
     "name": "stdout",
     "output_type": "stream",
     "text": [
      "#Lost before: Name1Count:0\n",
      "#Lost before: NameLen1:0\n",
      "#Lost before: Name2Count:0\n",
      "#Lost before: NameLen:0\n",
      "#Lost before: NameSex:0\n"
     ]
    }
   ],
   "source": [
    "Names = [f for f in df_train.columns if 'Name' in f]\n",
    "for Name in Names:\n",
    "    print(f'#Lost before: {Name}:{df_train[Name].isnull().sum()}')"
   ]
  },
  {
   "cell_type": "markdown",
   "id": "62e9bd55",
   "metadata": {
    "papermill": {
     "duration": 0.026094,
     "end_time": "2022-12-17T04:29:31.819944",
     "exception": false,
     "start_time": "2022-12-17T04:29:31.793850",
     "status": "completed"
    },
    "tags": []
   },
   "source": [
    "# ID"
   ]
  },
  {
   "cell_type": "code",
   "execution_count": 19,
   "id": "68fd109a",
   "metadata": {
    "execution": {
     "iopub.execute_input": "2022-12-17T04:29:31.872750Z",
     "iopub.status.busy": "2022-12-17T04:29:31.871990Z",
     "iopub.status.idle": "2022-12-17T04:29:32.291100Z",
     "shell.execute_reply": "2022-12-17T04:29:32.289526Z"
    },
    "papermill": {
     "duration": 0.447272,
     "end_time": "2022-12-17T04:29:32.293665",
     "exception": false,
     "start_time": "2022-12-17T04:29:31.846393",
     "status": "completed"
    },
    "tags": []
   },
   "outputs": [
    {
     "data": {
      "image/png": "[encoded data removed]",
      "text/plain": [
       "<Figure size 720x288 with 2 Axes>"
      ]
     },
     "metadata": {
      "needs_background": "light"
     },
     "output_type": "display_data"
    }
   ],
   "source": [
    "fig=plt.figure(figsize=(10,4))\n",
    "plt.subplot(2,1,1)\n",
    "sns.countplot(data=Target, x='ID1_count', hue='Transported')\n",
    "plt.title('ID1_count')\n",
    "\n",
    "# Those who were outside the group were less likely to survive\n",
    "\n",
    "for dataset in combine:\n",
    "    dataset['ID1_count'] = dataset['ID1_count'].apply(lambda x: 1 if x in {1} else 0)\n",
    "\n",
    "Target = update(Target)\n",
    "plt.subplot(2,1,2)\n",
    "sns.countplot(data=Target, x='ID1_count', hue='Transported')\n",
    "plt.title('ID1_count');\n"
   ]
  },
  {
   "cell_type": "code",
   "execution_count": 20,
   "id": "0bcf20df",
   "metadata": {
    "execution": {
     "iopub.execute_input": "2022-12-17T04:29:32.344479Z",
     "iopub.status.busy": "2022-12-17T04:29:32.342629Z",
     "iopub.status.idle": "2022-12-17T04:29:32.839997Z",
     "shell.execute_reply": "2022-12-17T04:29:32.838264Z"
    },
    "papermill": {
     "duration": 0.525779,
     "end_time": "2022-12-17T04:29:32.843095",
     "exception": false,
     "start_time": "2022-12-17T04:29:32.317316",
     "status": "completed"
    },
    "tags": []
   },
   "outputs": [
    {
     "data": {
      "image/png": "[encoded data removed]",
      "text/plain": [
       "<Figure size 1440x360 with 1 Axes>"
      ]
     },
     "metadata": {
      "needs_background": "light"
     },
     "output_type": "display_data"
    }
   ],
   "source": [
    "Target = update(Target)\n",
    "fig=plt.figure(figsize=(20,5))\n",
    "ax=fig.add_subplot(1,1,1)\n",
    "sns.histplot(data=Target, x='ID1', axes=ax, bins=30, kde=False, hue='Transported')\n",
    "plt.vlines(3100, ymin=0, ymax=200, color='black')\n",
    "plt.vlines(7100, ymin=0, ymax=200, color='black')\n",
    "ax.set_title('ID1');"
   ]
  },
  {
   "cell_type": "code",
   "execution_count": 21,
   "id": "8d62149a",
   "metadata": {
    "execution": {
     "iopub.execute_input": "2022-12-17T04:29:32.897925Z",
     "iopub.status.busy": "2022-12-17T04:29:32.897418Z",
     "iopub.status.idle": "2022-12-17T04:29:33.163907Z",
     "shell.execute_reply": "2022-12-17T04:29:33.162379Z"
    },
    "papermill": {
     "duration": 0.296961,
     "end_time": "2022-12-17T04:29:33.166769",
     "exception": false,
     "start_time": "2022-12-17T04:29:32.869808",
     "status": "completed"
    },
    "tags": []
   },
   "outputs": [
    {
     "data": {
      "image/png": "[encoded data removed]",
      "text/plain": [
       "<Figure size 1440x360 with 1 Axes>"
      ]
     },
     "metadata": {
      "needs_background": "light"
     },
     "output_type": "display_data"
    }
   ],
   "source": [
    "# Converting to binary features\n",
    "for dataset in combine:\n",
    "    dataset['LuckyID'] = 0\n",
    "    dataset.loc[(dataset['ID1']>3000) & (dataset['ID1']<7100),'LuckyID']= 1\n",
    "Target = update(Target)\n",
    "fig=plt.figure(figsize=(20,5))\n",
    "plt.subplot(1,1,1)\n",
    "sns.countplot(data=Target, x='LuckyID', hue='Transported')\n",
    "plt.title('LuckyID');"
   ]
  },
  {
   "cell_type": "markdown",
   "id": "ebe202fd",
   "metadata": {
    "papermill": {
     "duration": 0.024597,
     "end_time": "2022-12-17T04:29:33.216067",
     "exception": false,
     "start_time": "2022-12-17T04:29:33.191470",
     "status": "completed"
    },
    "tags": []
   },
   "source": [
    "### ID is the only feature that has no gaps. It would be right, of course, to dance around him. But I figured it out late and haven't found good dependencies yet."
   ]
  },
  {
   "cell_type": "markdown",
   "id": "92845e13",
   "metadata": {
    "papermill": {
     "duration": 0.025129,
     "end_time": "2022-12-17T04:29:33.267630",
     "exception": false,
     "start_time": "2022-12-17T04:29:33.242501",
     "status": "completed"
    },
    "tags": []
   },
   "source": [
    "# AGE"
   ]
  },
  {
   "cell_type": "markdown",
   "id": "85034487",
   "metadata": {
    "papermill": {
     "duration": 0.025814,
     "end_time": "2022-12-17T04:29:33.318999",
     "exception": false,
     "start_time": "2022-12-17T04:29:33.293185",
     "status": "completed"
    },
    "tags": []
   },
   "source": [
    "### Children don't spend money."
   ]
  },
  {
   "cell_type": "code",
   "execution_count": 22,
   "id": "42e8710c",
   "metadata": {
    "execution": {
     "iopub.execute_input": "2022-12-17T04:29:33.371761Z",
     "iopub.status.busy": "2022-12-17T04:29:33.371304Z",
     "iopub.status.idle": "2022-12-17T04:29:33.383747Z",
     "shell.execute_reply": "2022-12-17T04:29:33.382717Z"
    },
    "papermill": {
     "duration": 0.041583,
     "end_time": "2022-12-17T04:29:33.386432",
     "exception": false,
     "start_time": "2022-12-17T04:29:33.344849",
     "status": "completed"
    },
    "tags": []
   },
   "outputs": [],
   "source": [
    "MoneyName = ['RoomService', 'FoodCourt', 'ShoppingMall', 'Spa', 'VRDeck']\n",
    "df_train['Money'] = df_train[MoneyName].sum(axis=1)\n",
    "df_train['Money1']=1\n",
    "df_train.loc[df_train['Money']<1, 'Money1']=0  "
   ]
  },
  {
   "cell_type": "markdown",
   "id": "2062f90f",
   "metadata": {
    "papermill": {
     "duration": 0.025855,
     "end_time": "2022-12-17T04:29:33.436900",
     "exception": false,
     "start_time": "2022-12-17T04:29:33.411045",
     "status": "completed"
    },
    "tags": []
   },
   "source": [
    "### We group the signs and fill in the age according to the average of the signs."
   ]
  },
  {
   "cell_type": "code",
   "execution_count": 23,
   "id": "80e899fc",
   "metadata": {
    "execution": {
     "iopub.execute_input": "2022-12-17T04:29:33.490137Z",
     "iopub.status.busy": "2022-12-17T04:29:33.489673Z",
     "iopub.status.idle": "2022-12-17T04:29:33.547953Z",
     "shell.execute_reply": "2022-12-17T04:29:33.546724Z"
    },
    "papermill": {
     "duration": 0.087553,
     "end_time": "2022-12-17T04:29:33.550974",
     "exception": false,
     "start_time": "2022-12-17T04:29:33.463421",
     "status": "completed"
    },
    "tags": []
   },
   "outputs": [
    {
     "name": "stdout",
     "output_type": "stream",
     "text": [
      "Cabin1                          A     B     C     D     E     F     G     T\n",
      "HomePlanet Money1 ID1_count                                                \n",
      "Earth      0      0          0.00  0.00  0.00  0.00  7.50 16.00  8.00  0.00\n",
      "                  1          0.00  0.00  0.00  0.00 21.00 27.00 23.00  0.00\n",
      "           1      0          0.00  0.00  0.00  0.00 24.00 25.00 28.00  0.00\n",
      "                  1          0.00  0.00  0.00  0.00 25.00 24.00 26.00  0.00\n",
      "Europa     0      0         30.00 27.00 28.50 27.00 28.00 30.00  0.00  0.00\n",
      "                  1         37.50 34.00 34.50 32.00 33.00 18.00  0.00  0.00\n",
      "           1      0         35.00 34.00 33.00 33.00 34.00  0.00  0.00 44.00\n",
      "                  1         35.00 36.00 36.00 34.00 33.00  0.00  0.00 35.00\n",
      "Mars       0      0          0.00  0.00  0.00 29.50 26.00 18.00  0.00  0.00\n",
      "                  1          0.00  0.00  0.00 28.00 30.00 30.00  0.00  0.00\n",
      "           1      0          0.00  0.00  0.00 30.00 29.00 29.00  0.00  0.00\n",
      "                  1          0.00  0.00  0.00 32.00 29.00 31.00  0.00  0.00\n",
      "#Lost before: 270\n",
      "#Lost after: 0\n"
     ]
    }
   ],
   "source": [
    "print(df_train.groupby(['HomePlanet','Money1','ID1_count','Cabin1'])['Age'].median().unstack().fillna(0))\n",
    "print('#Lost before:', df_train['Age'].isnull().sum())\n",
    "index=df_train.loc[df_train['Age'].isnull(),'Age'].index\n",
    "df_train.loc[df_train['Age'].isnull(),'Age']=df_train.groupby(['HomePlanet','Money1','ID1_count','Cabin1'])['Age'].transform(lambda x: x.fillna(x.median()))[index]\n",
    "print('#Lost after:', df_train['Age'].isnull().sum()) "
   ]
  },
  {
   "cell_type": "code",
   "execution_count": 24,
   "id": "b692cc6a",
   "metadata": {
    "execution": {
     "iopub.execute_input": "2022-12-17T04:29:33.604336Z",
     "iopub.status.busy": "2022-12-17T04:29:33.603033Z",
     "iopub.status.idle": "2022-12-17T04:29:34.663225Z",
     "shell.execute_reply": "2022-12-17T04:29:34.662272Z"
    },
    "papermill": {
     "duration": 1.089426,
     "end_time": "2022-12-17T04:29:34.665697",
     "exception": false,
     "start_time": "2022-12-17T04:29:33.576271",
     "status": "completed"
    },
    "tags": []
   },
   "outputs": [
    {
     "data": {
      "image/png": "[encoded data removed]",
      "text/plain": [
       "<Figure size 720x288 with 1 Axes>"
      ]
     },
     "metadata": {
      "needs_background": "light"
     },
     "output_type": "display_data"
    },
    {
     "data": {
      "image/png": "[encoded data removed]",
      "text/plain": [
       "<Figure size 720x288 with 1 Axes>"
      ]
     },
     "metadata": {
      "needs_background": "light"
     },
     "output_type": "display_data"
    }
   ],
   "source": [
    "Target = update(Target)\n",
    "\n",
    "plt.figure(figsize=(10,4))\n",
    "\n",
    "\n",
    "sns.histplot(data=Target, x='Age', hue='Transported', binwidth=1, kde=True)\n",
    "plt.vlines(12, ymin=0, ymax=200, color='black')\n",
    "plt.vlines(18, ymin=0, ymax=200, color='black')\n",
    "\n",
    "\n",
    "plt.title('Age distribution')\n",
    "plt.xlabel('Age (years)')\n",
    "\n",
    "for dataset in combine:\n",
    "    dataset['Age_group']=np.nan\n",
    "    dataset.loc[dataset['Age']<=12,'Age_group']='Age12'\n",
    "    dataset.loc[(dataset['Age']>12) & (dataset['Age']<18),'Age_group']='Age17'\n",
    "    dataset.loc[(dataset['Age']>=18) & (dataset['Age']<=25),'Age_group']='Age25'\n",
    "    dataset.loc[(dataset['Age']>25) & (dataset['Age']<=30),'Age_group']='Age30'\n",
    "    dataset.loc[(dataset['Age']>30) & (dataset['Age']<=50),'Age_group']='Age50'\n",
    "    dataset.loc[dataset['Age']>50,'Age_group']='Age51+'\n",
    "#     dataset.drop(['Age'], axis=1, inplace=True)\n",
    "\n",
    "Target = update(Target)\n",
    "plt.figure(figsize=(10,4))\n",
    "g=sns.countplot(data=Target, x='Age_group', hue='Transported', order=['Age12','Age17','Age25','Age30','Age50','Age51+'])\n",
    "plt.title('Age group distribution');"
   ]
  },
  {
   "cell_type": "markdown",
   "id": "4b369502",
   "metadata": {
    "papermill": {
     "duration": 0.02609,
     "end_time": "2022-12-17T04:29:34.718717",
     "exception": false,
     "start_time": "2022-12-17T04:29:34.692627",
     "status": "completed"
    },
    "tags": []
   },
   "source": [
    "# VIP"
   ]
  },
  {
   "cell_type": "code",
   "execution_count": 25,
   "id": "5c962562",
   "metadata": {
    "execution": {
     "iopub.execute_input": "2022-12-17T04:29:34.773791Z",
     "iopub.status.busy": "2022-12-17T04:29:34.773061Z",
     "iopub.status.idle": "2022-12-17T04:29:34.843616Z",
     "shell.execute_reply": "2022-12-17T04:29:34.842359Z"
    },
    "papermill": {
     "duration": 0.102697,
     "end_time": "2022-12-17T04:29:34.847842",
     "exception": false,
     "start_time": "2022-12-17T04:29:34.745145",
     "status": "completed"
    },
    "tags": []
   },
   "outputs": [
    {
     "name": "stdout",
     "output_type": "stream",
     "text": [
      "VIP     0.00  1.00\n",
      "Cabin1            \n",
      "A        307    46\n",
      "B       1091    59\n",
      "C       1045    58\n",
      "D        680    42\n",
      "E       1313    26\n",
      "F       4177    42\n",
      "G       3778     0\n",
      "T         10     0\n",
      "#Lost before: 296\n",
      "#Lost after: 203\n"
     ]
    }
   ],
   "source": [
    "print(pd.crosstab(df_train['Cabin1'], df_train['VIP']))\n",
    "print('#Lost before:', df_train['VIP'].isnull().sum())\n",
    "for dataset in combine:\n",
    "    indexVIPCabin = dataset.loc[(dataset['Cabin1'].isin({'G','T'})) & (dataset['VIP'].isnull())].index\n",
    "    for i in indexVIPCabin:\n",
    "        dataset.loc[dataset['VIP'].index == i, 'VIP'] = 0\n",
    "print('#Lost after:', df_train['VIP'].isnull().sum())       "
   ]
  },
  {
   "cell_type": "code",
   "execution_count": 26,
   "id": "6fee4131",
   "metadata": {
    "execution": {
     "iopub.execute_input": "2022-12-17T04:29:34.905237Z",
     "iopub.status.busy": "2022-12-17T04:29:34.904524Z",
     "iopub.status.idle": "2022-12-17T04:29:34.961013Z",
     "shell.execute_reply": "2022-12-17T04:29:34.959102Z"
    },
    "papermill": {
     "duration": 0.087856,
     "end_time": "2022-12-17T04:29:34.964339",
     "exception": false,
     "start_time": "2022-12-17T04:29:34.876483",
     "status": "completed"
    },
    "tags": []
   },
   "outputs": [
    {
     "name": "stdout",
     "output_type": "stream",
     "text": [
      "VIP         0.00  1.00\n",
      "HomePlanet            \n",
      "Earth       6947     0\n",
      "Europa      2958   179\n",
      "Mars        2589    94\n",
      "#Lost before: 203\n",
      "#Lost after: 134\n"
     ]
    }
   ],
   "source": [
    "print(pd.crosstab(df_train['HomePlanet'], df_train['VIP']))\n",
    "print('#Lost before:', df_train['VIP'].isnull().sum())\n",
    "for dataset in combine:\n",
    "    indexVIPHome = dataset.loc[(dataset['HomePlanet'] == 'Earth') & (dataset['VIP'].isnull())].index\n",
    "    for i in indexVIPHome:\n",
    "        dataset.loc[dataset['VIP'].index == i, 'VIP'] = 0\n",
    "print('#Lost after:', df_train['VIP'].isnull().sum()) "
   ]
  },
  {
   "cell_type": "code",
   "execution_count": 27,
   "id": "c2bab485",
   "metadata": {
    "execution": {
     "iopub.execute_input": "2022-12-17T04:29:35.022937Z",
     "iopub.status.busy": "2022-12-17T04:29:35.022496Z",
     "iopub.status.idle": "2022-12-17T04:29:35.059647Z",
     "shell.execute_reply": "2022-12-17T04:29:35.058261Z"
    },
    "papermill": {
     "duration": 0.07077,
     "end_time": "2022-12-17T04:29:35.063440",
     "exception": false,
     "start_time": "2022-12-17T04:29:34.992670",
     "status": "completed"
    },
    "tags": []
   },
   "outputs": [
    {
     "name": "stdout",
     "output_type": "stream",
     "text": [
      "Age_group  Age12  Age17  Age25  Age30  Age50  Age51+\n",
      "VIP                                                 \n",
      "0.00        1178   1101   3665   1779   3822    1018\n",
      "1.00           0      0     24     73    138      38\n",
      "#Lost before: 134\n",
      "#Lost after: 122\n"
     ]
    }
   ],
   "source": [
    "print(pd.crosstab(df_train['VIP'], df_train['Age_group']))\n",
    "print('#Lost before:', df_train['VIP'].isnull().sum())\n",
    "for dataset in combine:\n",
    "    index = dataset.loc[(dataset['VIP'].isnull())&(dataset['Age_group'].isin({'Age12','Age17'}))].index\n",
    "    for i in index:\n",
    "        dataset.loc[dataset['VIP'].index == i, 'VIP'] = 0\n",
    "print('#Lost after:', df_train['VIP'].isnull().sum())"
   ]
  },
  {
   "cell_type": "code",
   "execution_count": 28,
   "id": "c31774c2",
   "metadata": {
    "execution": {
     "iopub.execute_input": "2022-12-17T04:29:35.121829Z",
     "iopub.status.busy": "2022-12-17T04:29:35.121114Z",
     "iopub.status.idle": "2022-12-17T04:29:35.134780Z",
     "shell.execute_reply": "2022-12-17T04:29:35.132258Z"
    },
    "papermill": {
     "duration": 0.045827,
     "end_time": "2022-12-17T04:29:35.137856",
     "exception": false,
     "start_time": "2022-12-17T04:29:35.092029",
     "status": "completed"
    },
    "tags": []
   },
   "outputs": [
    {
     "name": "stdout",
     "output_type": "stream",
     "text": [
      "#Lost before: 122\n",
      "#Lost after: 0\n"
     ]
    }
   ],
   "source": [
    "print('#Lost before:', df_train['VIP'].isnull().sum())\n",
    "df_train['VIP'].fillna(0,inplace=True)\n",
    "print('#Lost after:', df_train['VIP'].isnull().sum())"
   ]
  },
  {
   "cell_type": "markdown",
   "id": "617efb6d",
   "metadata": {
    "papermill": {
     "duration": 0.026293,
     "end_time": "2022-12-17T04:29:35.191237",
     "exception": false,
     "start_time": "2022-12-17T04:29:35.164944",
     "status": "completed"
    },
    "tags": []
   },
   "source": [
    "### The VIP sign is not very informative"
   ]
  },
  {
   "cell_type": "code",
   "execution_count": 29,
   "id": "2266022b",
   "metadata": {
    "execution": {
     "iopub.execute_input": "2022-12-17T04:29:35.248670Z",
     "iopub.status.busy": "2022-12-17T04:29:35.247270Z",
     "iopub.status.idle": "2022-12-17T04:29:35.521132Z",
     "shell.execute_reply": "2022-12-17T04:29:35.520121Z"
    },
    "papermill": {
     "duration": 0.305811,
     "end_time": "2022-12-17T04:29:35.524044",
     "exception": false,
     "start_time": "2022-12-17T04:29:35.218233",
     "status": "completed"
    },
    "tags": []
   },
   "outputs": [
    {
     "data": {
      "image/png": "[encoded data removed]",
      "text/plain": [
       "<Figure size 1440x360 with 1 Axes>"
      ]
     },
     "metadata": {
      "needs_background": "light"
     },
     "output_type": "display_data"
    }
   ],
   "source": [
    "Target = update(Target)\n",
    "fig=plt.figure(figsize=(20,5))\n",
    "plt.subplot(1,1,1)\n",
    "sns.countplot(data=Target, x='VIP', hue='Transported')\n",
    "plt.title('VIP');"
   ]
  },
  {
   "cell_type": "markdown",
   "id": "157902c0",
   "metadata": {
    "papermill": {
     "duration": 0.026655,
     "end_time": "2022-12-17T04:29:35.577683",
     "exception": false,
     "start_time": "2022-12-17T04:29:35.551028",
     "status": "completed"
    },
    "tags": []
   },
   "source": [
    "# MONEY"
   ]
  },
  {
   "cell_type": "markdown",
   "id": "80b3b5dc",
   "metadata": {
    "papermill": {
     "duration": 0.028393,
     "end_time": "2022-12-17T04:29:35.633283",
     "exception": false,
     "start_time": "2022-12-17T04:29:35.604890",
     "status": "completed"
    },
    "tags": []
   },
   "source": [
    "### A sleeping person cannot pay, just as a sleepless child cannot pay. All the remaining empty values ​​are filled with the average of the grouped features."
   ]
  },
  {
   "cell_type": "code",
   "execution_count": 30,
   "id": "6e26085c",
   "metadata": {
    "execution": {
     "iopub.execute_input": "2022-12-17T04:29:35.691695Z",
     "iopub.status.busy": "2022-12-17T04:29:35.690732Z",
     "iopub.status.idle": "2022-12-17T04:29:35.944153Z",
     "shell.execute_reply": "2022-12-17T04:29:35.942117Z"
    },
    "papermill": {
     "duration": 0.286428,
     "end_time": "2022-12-17T04:29:35.947274",
     "exception": false,
     "start_time": "2022-12-17T04:29:35.660846",
     "status": "completed"
    },
    "tags": []
   },
   "outputs": [
    {
     "name": "stdout",
     "output_type": "stream",
     "text": [
      "RoomService #Lost after: , 263\n",
      "RoomService #Lost before: , 170\n",
      "FoodCourt #Lost after: , 289\n",
      "FoodCourt #Lost before: , 180\n",
      "ShoppingMall #Lost after: , 306\n",
      "ShoppingMall #Lost before: , 175\n",
      "Spa #Lost after: , 284\n",
      "Spa #Lost before: , 177\n",
      "VRDeck #Lost after: , 268\n",
      "VRDeck #Lost before: , 177\n"
     ]
    }
   ],
   "source": [
    "MoneyName = ['RoomService', 'FoodCourt', 'ShoppingMall', 'Spa', 'VRDeck']\n",
    "for Names in MoneyName:\n",
    "    print(f\"{Names} #Lost after: , {df_train[Names].isnull().sum()}\")\n",
    "#     print(pd.crosstab(df_train[Names], df_train['CryoSleep']))\n",
    "    for dataset in combine:\n",
    "        indexMoneyCryoSleep = dataset.loc[(dataset[Names].isnull())&(dataset['CryoSleep']==1)].index\n",
    "        for i in indexMoneyCryoSleep:\n",
    "            dataset.loc[dataset['CryoSleep'].index == i, Names] = 0\n",
    "    print(f\"{Names} #Lost before: , {df_train[Names].isnull().sum()}\")"
   ]
  },
  {
   "cell_type": "code",
   "execution_count": 31,
   "id": "3f0bde97",
   "metadata": {
    "execution": {
     "iopub.execute_input": "2022-12-17T04:29:36.003914Z",
     "iopub.status.busy": "2022-12-17T04:29:36.003201Z",
     "iopub.status.idle": "2022-12-17T04:29:36.268655Z",
     "shell.execute_reply": "2022-12-17T04:29:36.266837Z"
    },
    "papermill": {
     "duration": 0.297644,
     "end_time": "2022-12-17T04:29:36.271600",
     "exception": false,
     "start_time": "2022-12-17T04:29:35.973956",
     "status": "completed"
    },
    "tags": []
   },
   "outputs": [
    {
     "name": "stdout",
     "output_type": "stream",
     "text": [
      "CryoSleep  Destination  HomePlanet  Age_group\n",
      "0.00       55 Cancri e  Earth       Age12         0.00\n",
      "                                    Age17       287.65\n",
      "                                    Age25       205.00\n",
      "Name: RoomService, dtype: float64\n",
      "#Lost before: 170\n",
      "#Lost after: 5\n",
      "CryoSleep  Destination  HomePlanet  Age_group\n",
      "0.00       55 Cancri e  Earth       Age12         0.00\n",
      "                                    Age17       224.45\n",
      "                                    Age25       186.96\n",
      "Name: FoodCourt, dtype: float64\n",
      "#Lost before: 180\n",
      "#Lost after: 8\n",
      "CryoSleep  Destination  HomePlanet  Age_group\n",
      "0.00       55 Cancri e  Earth       Age12         0.00\n",
      "                                    Age17       270.73\n",
      "                                    Age25       233.99\n",
      "Name: ShoppingMall, dtype: float64\n",
      "#Lost before: 175\n",
      "#Lost after: 16\n",
      "CryoSleep  Destination  HomePlanet  Age_group\n",
      "0.00       55 Cancri e  Earth       Age12         0.00\n",
      "                                    Age17       133.56\n",
      "                                    Age25       241.19\n",
      "Name: Spa, dtype: float64\n",
      "#Lost before: 177\n",
      "#Lost after: 10\n",
      "CryoSleep  Destination  HomePlanet  Age_group\n",
      "0.00       55 Cancri e  Earth       Age12         0.00\n",
      "                                    Age17       217.77\n",
      "                                    Age25       187.05\n",
      "Name: VRDeck, dtype: float64\n",
      "#Lost before: 177\n",
      "#Lost after: 13\n"
     ]
    }
   ],
   "source": [
    "for dataset in combine:\n",
    "    for Names in MoneyName:\n",
    "        print(df_train.groupby(['CryoSleep','Destination','HomePlanet','Age_group'])[Names].mean()[:3])\n",
    "        print('#Lost before:', dataset[Names].isnull().sum())\n",
    "        index=dataset.loc[dataset[Names].isnull(), Names].index\n",
    "        dataset.loc[dataset[Names].isnull(),Names]=dataset.groupby(['CryoSleep',\n",
    "                'Destination','HomePlanet','Age_group'])[Names].transform(lambda x: x.fillna(x.mean()))\n",
    "        print('#Lost after:', dataset[Names].isnull().sum()) "
   ]
  },
  {
   "cell_type": "code",
   "execution_count": 32,
   "id": "297d8259",
   "metadata": {
    "execution": {
     "iopub.execute_input": "2022-12-17T04:29:36.329222Z",
     "iopub.status.busy": "2022-12-17T04:29:36.328758Z",
     "iopub.status.idle": "2022-12-17T04:29:36.344194Z",
     "shell.execute_reply": "2022-12-17T04:29:36.342561Z"
    },
    "papermill": {
     "duration": 0.047494,
     "end_time": "2022-12-17T04:29:36.347074",
     "exception": false,
     "start_time": "2022-12-17T04:29:36.299580",
     "status": "completed"
    },
    "tags": []
   },
   "outputs": [
    {
     "name": "stdout",
     "output_type": "stream",
     "text": [
      "#Lost before: 5\n",
      "#Lost after: 0\n",
      "#Lost before: 8\n",
      "#Lost after: 0\n",
      "#Lost before: 16\n",
      "#Lost after: 0\n",
      "#Lost before: 10\n",
      "#Lost after: 0\n",
      "#Lost before: 13\n",
      "#Lost after: 0\n"
     ]
    }
   ],
   "source": [
    "for dataset in combine:\n",
    "    for Names in MoneyName:\n",
    "        print('#Lost before:', dataset[Names].isnull().sum())\n",
    "        dataset[Names].fillna(0,inplace=True)\n",
    "        print('#Lost after:', dataset[Names].isnull().sum())"
   ]
  },
  {
   "cell_type": "markdown",
   "id": "0972beaa",
   "metadata": {
    "papermill": {
     "duration": 0.026595,
     "end_time": "2022-12-17T04:29:36.402711",
     "exception": false,
     "start_time": "2022-12-17T04:29:36.376116",
     "status": "completed"
    },
    "tags": []
   },
   "source": [
    "### Getting rid of emissions"
   ]
  },
  {
   "cell_type": "code",
   "execution_count": 33,
   "id": "450c2cb9",
   "metadata": {
    "execution": {
     "iopub.execute_input": "2022-12-17T04:29:36.460376Z",
     "iopub.status.busy": "2022-12-17T04:29:36.459915Z",
     "iopub.status.idle": "2022-12-17T04:29:36.489081Z",
     "shell.execute_reply": "2022-12-17T04:29:36.487519Z"
    },
    "papermill": {
     "duration": 0.061632,
     "end_time": "2022-12-17T04:29:36.492158",
     "exception": false,
     "start_time": "2022-12-17T04:29:36.430526",
     "status": "completed"
    },
    "tags": []
   },
   "outputs": [],
   "source": [
    "def outlier_thresholds(dataframe, col_name, q1 = 0.01, q3 = 0.99):\n",
    "    Q1 = dataframe[col_name].quantile(q1)\n",
    "    Q3 = dataframe[col_name].quantile(q3)\n",
    "    IQR = Q3 - Q1\n",
    "    low_limit = Q1 - 1.5 * IQR\n",
    "    up_limit = Q3 + 1.5 * IQR\n",
    "    \n",
    "    return low_limit, up_limit\n",
    "\n",
    "def replace_with_thresholds(dataframe, variable):\n",
    "    low_limit, up_limit = outlier_thresholds(dataframe, variable)              \n",
    "#     print(len(dataframe.loc[(dataframe[variable] < low_limit), variable]+len(dataframe.loc[(dataframe[variable] > up_limit), variable]))\n",
    "    dataframe.loc[(dataframe[variable] < low_limit), variable] = low_limit\n",
    "    dataframe.loc[(dataframe[variable] > up_limit), variable] = up_limit\n",
    "\n",
    "    \n",
    "for col in MoneyName:\n",
    "    replace_with_thresholds(df_train, col)"
   ]
  },
  {
   "cell_type": "markdown",
   "id": "cf85d9b2",
   "metadata": {
    "papermill": {
     "duration": 0.027239,
     "end_time": "2022-12-17T04:29:36.546901",
     "exception": false,
     "start_time": "2022-12-17T04:29:36.519662",
     "status": "completed"
    },
    "tags": []
   },
   "source": [
    "### We form a sign, how many types of services the passenger used"
   ]
  },
  {
   "cell_type": "code",
   "execution_count": 34,
   "id": "ca4fc5fe",
   "metadata": {
    "execution": {
     "iopub.execute_input": "2022-12-17T04:29:36.605161Z",
     "iopub.status.busy": "2022-12-17T04:29:36.604001Z",
     "iopub.status.idle": "2022-12-17T04:29:36.618475Z",
     "shell.execute_reply": "2022-12-17T04:29:36.617474Z"
    },
    "papermill": {
     "duration": 0.046246,
     "end_time": "2022-12-17T04:29:36.620821",
     "exception": false,
     "start_time": "2022-12-17T04:29:36.574575",
     "status": "completed"
    },
    "tags": []
   },
   "outputs": [],
   "source": [
    "df_train['MoneyCount'] = df_train[['RoomService','FoodCourt','ShoppingMall','Spa','VRDeck']].replace(0, np.nan, inplace=False).count(axis=1, numeric_only=True)\n",
    "df_train.drop(['Money1'], axis=1, inplace = True)"
   ]
  },
  {
   "cell_type": "code",
   "execution_count": 35,
   "id": "6eab06fb",
   "metadata": {
    "execution": {
     "iopub.execute_input": "2022-12-17T04:29:36.677397Z",
     "iopub.status.busy": "2022-12-17T04:29:36.676922Z",
     "iopub.status.idle": "2022-12-17T04:29:36.681975Z",
     "shell.execute_reply": "2022-12-17T04:29:36.680771Z"
    },
    "papermill": {
     "duration": 0.036533,
     "end_time": "2022-12-17T04:29:36.684499",
     "exception": false,
     "start_time": "2022-12-17T04:29:36.647966",
     "status": "completed"
    },
    "tags": []
   },
   "outputs": [],
   "source": [
    "# #Schedule with rear suspension. It needs to be equalized in mass. Let's take a logarithm.\n",
    "# Later it turned out that this slowed down, which means that the difference in the magnitude of the likelihood of survival.\n",
    "# for col in ['Money','RoomService','FoodCourt','ShoppingMall','Spa','VRDeck']:\n",
    "#     df_train[col]=np.log(1 + df_train[col])"
   ]
  },
  {
   "cell_type": "code",
   "execution_count": 36,
   "id": "180cd4bf",
   "metadata": {
    "execution": {
     "iopub.execute_input": "2022-12-17T04:29:36.741675Z",
     "iopub.status.busy": "2022-12-17T04:29:36.741027Z",
     "iopub.status.idle": "2022-12-17T04:29:37.058011Z",
     "shell.execute_reply": "2022-12-17T04:29:37.057021Z"
    },
    "papermill": {
     "duration": 0.349134,
     "end_time": "2022-12-17T04:29:37.060605",
     "exception": false,
     "start_time": "2022-12-17T04:29:36.711471",
     "status": "completed"
    },
    "tags": []
   },
   "outputs": [
    {
     "data": {
      "image/png": "[encoded data removed]",
      "text/plain": [
       "<Figure size 1440x360 with 1 Axes>"
      ]
     },
     "metadata": {
      "needs_background": "light"
     },
     "output_type": "display_data"
    }
   ],
   "source": [
    "Target = update(Target)\n",
    "fig=plt.figure(figsize=(20,5))\n",
    "plt.subplot(1,1,1)\n",
    "sns.countplot(data=Target, x='MoneyCount', hue='Transported')\n",
    "plt.title('MoneyCount');"
   ]
  },
  {
   "cell_type": "markdown",
   "id": "82a85f77",
   "metadata": {
    "papermill": {
     "duration": 0.026834,
     "end_time": "2022-12-17T04:29:37.114449",
     "exception": false,
     "start_time": "2022-12-17T04:29:37.087615",
     "status": "completed"
    },
    "tags": []
   },
   "source": [
    "# CryoSleep"
   ]
  },
  {
   "cell_type": "markdown",
   "id": "4de37b73",
   "metadata": {
    "papermill": {
     "duration": 0.026692,
     "end_time": "2022-12-17T04:29:37.168429",
     "exception": false,
     "start_time": "2022-12-17T04:29:37.141737",
     "status": "completed"
    },
    "tags": []
   },
   "source": [
    "### As I wrote above, those who did not spend, they slept (not counting children)"
   ]
  },
  {
   "cell_type": "code",
   "execution_count": 37,
   "id": "f3e657d9",
   "metadata": {
    "execution": {
     "iopub.execute_input": "2022-12-17T04:29:37.225932Z",
     "iopub.status.busy": "2022-12-17T04:29:37.225236Z",
     "iopub.status.idle": "2022-12-17T04:29:37.816136Z",
     "shell.execute_reply": "2022-12-17T04:29:37.815214Z"
    },
    "papermill": {
     "duration": 0.623328,
     "end_time": "2022-12-17T04:29:37.818665",
     "exception": false,
     "start_time": "2022-12-17T04:29:37.195337",
     "status": "completed"
    },
    "tags": []
   },
   "outputs": [
    {
     "data": {
      "image/png": "[encoded data removed]",
      "text/plain": [
       "<Figure size 1440x360 with 1 Axes>"
      ]
     },
     "metadata": {
      "needs_background": "light"
     },
     "output_type": "display_data"
    }
   ],
   "source": [
    "Target = update(Target)\n",
    "fig=plt.figure(figsize=(20,5))\n",
    "plt.subplot(1,1,1)\n",
    "sns.countplot(data=Target, x='MoneyCount', hue='CryoSleep')\n",
    "plt.title('MoneyCount');"
   ]
  },
  {
   "cell_type": "code",
   "execution_count": 38,
   "id": "922384be",
   "metadata": {
    "execution": {
     "iopub.execute_input": "2022-12-17T04:29:37.876373Z",
     "iopub.status.busy": "2022-12-17T04:29:37.875905Z",
     "iopub.status.idle": "2022-12-17T04:29:37.976752Z",
     "shell.execute_reply": "2022-12-17T04:29:37.975231Z"
    },
    "papermill": {
     "duration": 0.133603,
     "end_time": "2022-12-17T04:29:37.980200",
     "exception": false,
     "start_time": "2022-12-17T04:29:37.846597",
     "status": "completed"
    },
    "tags": []
   },
   "outputs": [
    {
     "name": "stdout",
     "output_type": "stream",
     "text": [
      "#Lost before: 310\n",
      "#Lost after: 136\n"
     ]
    }
   ],
   "source": [
    "#Money != 0 ----> CryoSleep = False\n",
    "MoneyName = ['RoomService', 'FoodCourt', 'ShoppingMall', 'Spa', 'VRDeck']\n",
    "print('#Lost before:', dataset['CryoSleep'].isnull().sum())\n",
    "for Names in MoneyName:\n",
    "#     print(pd.crosstab(df_train[Names], df_train['CryoSleep']))\n",
    "    for dataset in combine:\n",
    "        indexMoneyCryoSleep = dataset.loc[(dataset['CryoSleep'].isnull())&(dataset[Names]>0)].index\n",
    "        for i in indexMoneyCryoSleep:\n",
    "            dataset.loc[dataset['CryoSleep'].index == i, 'CryoSleep'] = 0\n",
    "print('#Lost after:', dataset['CryoSleep'].isnull().sum())"
   ]
  },
  {
   "cell_type": "code",
   "execution_count": 39,
   "id": "cae4dfd0",
   "metadata": {
    "execution": {
     "iopub.execute_input": "2022-12-17T04:29:38.043266Z",
     "iopub.status.busy": "2022-12-17T04:29:38.042239Z",
     "iopub.status.idle": "2022-12-17T04:29:38.118729Z",
     "shell.execute_reply": "2022-12-17T04:29:38.117352Z"
    },
    "papermill": {
     "duration": 0.111567,
     "end_time": "2022-12-17T04:29:38.122302",
     "exception": false,
     "start_time": "2022-12-17T04:29:38.010735",
     "status": "completed"
    },
    "tags": []
   },
   "outputs": [
    {
     "name": "stdout",
     "output_type": "stream",
     "text": [
      "MoneyCount  Age_group\n",
      "0           Age12       0.49\n",
      "            Age17       0.99\n",
      "            Age25       0.96\n",
      "            Age30       0.96\n",
      "            Age50       0.97\n",
      "            Age51+      0.96\n",
      "1           Age17       0.00\n",
      "            Age25       0.00\n",
      "            Age30       0.00\n",
      "            Age50       0.00\n",
      "            Age51+      0.00\n",
      "2           Age17       0.00\n",
      "            Age25       0.00\n",
      "            Age30       0.00\n",
      "            Age50       0.00\n",
      "            Age51+      0.00\n",
      "3           Age17       0.00\n",
      "            Age25       0.00\n",
      "            Age30       0.00\n",
      "            Age50       0.00\n",
      "            Age51+      0.00\n",
      "4           Age17       0.00\n",
      "            Age25       0.00\n",
      "            Age30       0.00\n",
      "            Age50       0.00\n",
      "            Age51+      0.00\n",
      "5           Age17       0.00\n",
      "            Age25       0.00\n",
      "            Age30       0.00\n",
      "            Age50       0.00\n",
      "            Age51+      0.00\n",
      "Name: CryoSleep, dtype: float64\n",
      "#Lost before: 136\n",
      "#Lost after: 30\n"
     ]
    }
   ],
   "source": [
    "print(df_train.groupby(['MoneyCount','Age_group'])['CryoSleep'].mean())\n",
    "print('#Lost before:', dataset['CryoSleep'].isnull().sum())\n",
    "for Names in MoneyName:\n",
    "    for dataset in combine:\n",
    "        indexMoneyCryoSleep = dataset.loc[~(dataset['Age_group']=='Age12')&(dataset['MoneyCount']==0)&(dataset['CryoSleep'].isnull())].index\n",
    "        for i in indexMoneyCryoSleep:\n",
    "            dataset.loc[dataset['CryoSleep'].index == i, 'CryoSleep'] = 1\n",
    "print('#Lost after:', dataset['CryoSleep'].isnull().sum())"
   ]
  },
  {
   "cell_type": "code",
   "execution_count": 40,
   "id": "153169e8",
   "metadata": {
    "execution": {
     "iopub.execute_input": "2022-12-17T04:29:38.181251Z",
     "iopub.status.busy": "2022-12-17T04:29:38.179676Z",
     "iopub.status.idle": "2022-12-17T04:29:38.190069Z",
     "shell.execute_reply": "2022-12-17T04:29:38.188266Z"
    },
    "papermill": {
     "duration": 0.043344,
     "end_time": "2022-12-17T04:29:38.193216",
     "exception": false,
     "start_time": "2022-12-17T04:29:38.149872",
     "status": "completed"
    },
    "tags": []
   },
   "outputs": [
    {
     "name": "stdout",
     "output_type": "stream",
     "text": [
      "#Lost before: 30\n",
      "#Lost after: 0\n"
     ]
    }
   ],
   "source": [
    "for dataset in combine:\n",
    "    print('#Lost before:', dataset['CryoSleep'].isnull().sum())\n",
    "    dataset['CryoSleep'].fillna(1,inplace=True)\n",
    "    print('#Lost after:', dataset['CryoSleep'].isnull().sum())"
   ]
  },
  {
   "cell_type": "code",
   "execution_count": 41,
   "id": "3c16cfe6",
   "metadata": {
    "execution": {
     "iopub.execute_input": "2022-12-17T04:29:38.251271Z",
     "iopub.status.busy": "2022-12-17T04:29:38.250811Z",
     "iopub.status.idle": "2022-12-17T04:29:38.522895Z",
     "shell.execute_reply": "2022-12-17T04:29:38.521635Z"
    },
    "papermill": {
     "duration": 0.305106,
     "end_time": "2022-12-17T04:29:38.526191",
     "exception": false,
     "start_time": "2022-12-17T04:29:38.221085",
     "status": "completed"
    },
    "tags": []
   },
   "outputs": [
    {
     "data": {
      "image/png": "[encoded data removed]",
      "text/plain": [
       "<Figure size 1440x360 with 1 Axes>"
      ]
     },
     "metadata": {
      "needs_background": "light"
     },
     "output_type": "display_data"
    }
   ],
   "source": [
    "Target = update(Target)\n",
    "fig=plt.figure(figsize=(20,5))\n",
    "plt.subplot(1,1,1)\n",
    "sns.countplot(data=Target, x='CryoSleep', hue='Transported')\n",
    "plt.title('CryoSleep');"
   ]
  },
  {
   "cell_type": "markdown",
   "id": "c82b8662",
   "metadata": {
    "papermill": {
     "duration": 0.028927,
     "end_time": "2022-12-17T04:29:38.583868",
     "exception": false,
     "start_time": "2022-12-17T04:29:38.554941",
     "status": "completed"
    },
    "tags": []
   },
   "source": [
    "# DESTINATION"
   ]
  },
  {
   "cell_type": "code",
   "execution_count": 42,
   "id": "82ae0840",
   "metadata": {
    "execution": {
     "iopub.execute_input": "2022-12-17T04:29:38.644523Z",
     "iopub.status.busy": "2022-12-17T04:29:38.644080Z",
     "iopub.status.idle": "2022-12-17T04:29:38.945384Z",
     "shell.execute_reply": "2022-12-17T04:29:38.942726Z"
    },
    "papermill": {
     "duration": 0.341309,
     "end_time": "2022-12-17T04:29:38.954512",
     "exception": false,
     "start_time": "2022-12-17T04:29:38.613203",
     "status": "completed"
    },
    "tags": []
   },
   "outputs": [
    {
     "data": {
      "image/png": "[encoded data removed]",
      "text/plain": [
       "<Figure size 1440x360 with 1 Axes>"
      ]
     },
     "metadata": {
      "needs_background": "light"
     },
     "output_type": "display_data"
    }
   ],
   "source": [
    "Target = update(Target)\n",
    "fig=plt.figure(figsize=(20,5))\n",
    "plt.subplot(1,1,1)\n",
    "sns.countplot(data=Target, x='Destination', hue='Transported')\n",
    "plt.title('Destination');"
   ]
  },
  {
   "cell_type": "code",
   "execution_count": 43,
   "id": "a44b4651",
   "metadata": {
    "execution": {
     "iopub.execute_input": "2022-12-17T04:29:39.035421Z",
     "iopub.status.busy": "2022-12-17T04:29:39.034842Z",
     "iopub.status.idle": "2022-12-17T04:29:39.049113Z",
     "shell.execute_reply": "2022-12-17T04:29:39.047902Z"
    },
    "papermill": {
     "duration": 0.063537,
     "end_time": "2022-12-17T04:29:39.055304",
     "exception": false,
     "start_time": "2022-12-17T04:29:38.991767",
     "status": "completed"
    },
    "tags": []
   },
   "outputs": [
    {
     "name": "stdout",
     "output_type": "stream",
     "text": [
      "#Lost before: 274\n",
      "#Lost after: 0\n"
     ]
    }
   ],
   "source": [
    "### Didn't find obvious dependencies.\n",
    "for dataset in combine:\n",
    "    print('#Lost before:', dataset['Destination'].isnull().sum())\n",
    "    dataset['Destination'].fillna('TRAPPIST-1e' ,inplace=True)\n",
    "    print('#Lost after:', dataset['Destination'].isnull().sum())"
   ]
  },
  {
   "cell_type": "markdown",
   "id": "eb5a1778",
   "metadata": {
    "papermill": {
     "duration": 0.029612,
     "end_time": "2022-12-17T04:29:39.116068",
     "exception": false,
     "start_time": "2022-12-17T04:29:39.086456",
     "status": "completed"
    },
    "tags": []
   },
   "source": [
    "# ENCODING & SCALER"
   ]
  },
  {
   "cell_type": "code",
   "execution_count": 44,
   "id": "6f069c03",
   "metadata": {
    "execution": {
     "iopub.execute_input": "2022-12-17T04:29:39.178251Z",
     "iopub.status.busy": "2022-12-17T04:29:39.177309Z",
     "iopub.status.idle": "2022-12-17T04:29:39.384076Z",
     "shell.execute_reply": "2022-12-17T04:29:39.382766Z"
    },
    "papermill": {
     "duration": 0.241901,
     "end_time": "2022-12-17T04:29:39.387969",
     "exception": false,
     "start_time": "2022-12-17T04:29:39.146068",
     "status": "completed"
    },
    "tags": []
   },
   "outputs": [],
   "source": [
    "from sklearn.preprocessing import LabelEncoder, OrdinalEncoder, RobustScaler, StandardScaler, MinMaxScaler\n",
    "categorical_cols= [\n",
    "    'HomePlanet', \n",
    "    'Destination',\n",
    "    'Cabin1',\n",
    "    'ID2',\n",
    "    'Age_group',\n",
    "    'CabinCategory']\n",
    "ordinal_encode=OrdinalEncoder()\n",
    "df_train[categorical_cols] = ordinal_encode.fit_transform(df_train[categorical_cols])"
   ]
  },
  {
   "cell_type": "code",
   "execution_count": 45,
   "id": "e0673fa9",
   "metadata": {
    "execution": {
     "iopub.execute_input": "2022-12-17T04:29:39.450840Z",
     "iopub.status.busy": "2022-12-17T04:29:39.450047Z",
     "iopub.status.idle": "2022-12-17T04:29:39.477376Z",
     "shell.execute_reply": "2022-12-17T04:29:39.475540Z"
    },
    "papermill": {
     "duration": 0.063136,
     "end_time": "2022-12-17T04:29:39.480677",
     "exception": false,
     "start_time": "2022-12-17T04:29:39.417541",
     "status": "completed"
    },
    "tags": []
   },
   "outputs": [],
   "source": [
    "features = ['CryoSleep', 'Destination', 'Age', 'VIP', 'RoomService',\n",
    "       'FoodCourt', 'ShoppingMall', 'Spa', 'VRDeck', 'ID1', 'ID2', 'ID1_count',\n",
    "       'Name1Count', 'NameLen1', 'Name2Count', 'NameLen', 'Cabin1', 'Cabin2',\n",
    "       'Cabin3', 'RatioIDCabin', 'CabinCategory', 'NameSex', 'LuckyID',\n",
    "       'Money', 'Age_group', 'MoneyCount']\n",
    "Scaler = StandardScaler()\n",
    "# Scaler = RobustScaler()\n",
    "#Scaler = MinMaxScaler()\n",
    "df_train[features] = Scaler.fit_transform(df_train[features])"
   ]
  },
  {
   "cell_type": "code",
   "execution_count": 46,
   "id": "dfd3a040",
   "metadata": {
    "execution": {
     "iopub.execute_input": "2022-12-17T04:29:39.540913Z",
     "iopub.status.busy": "2022-12-17T04:29:39.540458Z",
     "iopub.status.idle": "2022-12-17T04:29:42.335699Z",
     "shell.execute_reply": "2022-12-17T04:29:42.334119Z"
    },
    "papermill": {
     "duration": 2.828912,
     "end_time": "2022-12-17T04:29:42.338753",
     "exception": false,
     "start_time": "2022-12-17T04:29:39.509841",
     "status": "completed"
    },
    "tags": []
   },
   "outputs": [
    {
     "data": {
      "text/html": [
       "        <script type=\"text/javascript\">\n",
       "        window.PlotlyConfig = {MathJaxConfig: 'local'};\n",
       "        if (window.MathJax && window.MathJax.Hub && window.MathJax.Hub.Config) {window.MathJax.Hub.Config({SVG: {font: \"STIX-Web\"}});}\n",
       "        if (typeof require !== 'undefined') {\n",
       "        require.undef(\"plotly\");\n",
       "        requirejs.config({\n",
       "            paths: {\n",
       "                'plotly': ['https://cdn.plot.ly/plotly-2.14.0.min']\n",
       "            }\n",
       "        });\n",
       "        require(['plotly'], function(Plotly) {\n",
       "            window._Plotly = Plotly;\n",
       "        });\n",
       "        }\n",
       "        </script>\n",
       "        "
      ]
     },
     "metadata": {},
     "output_type": "display_data"
    },
    {
     "data": {
      "text/html": [
       "<div>                            <div id=\"11157503-a6a4-4f3f-9c7e-08d381630fcc\" class=\"plotly-graph-div\" style=\"height:525px; width:100%;\"></div>            <script type=\"text/javascript\">                require([\"plotly\"], function(Plotly) {                    window.PLOTLYENV=window.PLOTLYENV || {};                                    if (document.getElementById(\"11157503-a6a4-4f3f-9c7e-08d381630fcc\")) {                    Plotly.newPlot(                        \"11157503-a6a4-4f3f-9c7e-08d381630fcc\",                        [{\"alignmentgroup\":\"True\",\"hovertemplate\":\"variable=Transported<br>index=%{x}<br>value=%{y}<extra></extra>\",\"legendgroup\":\"Transported\",\"marker\":{\"color\":\"#636efa\",\"pattern\":{\"shape\":\"\"}},\"name\":\"Transported\",\"offsetgroup\":\"Transported\",\"orientation\":\"v\",\"showlegend\":true,\"textposition\":\"auto\",\"x\":[\"ShoppingMall\",\"ID1\",\"NameLen\",\"VIP\",\"FoodCourt\",\"Cabin2\",\"Name2Count\",\"ID2\",\"Age\",\"LuckyID\",\"Age_group\",\"Cabin3\",\"Name1Count\",\"Destination\",\"NameSex\",\"ID1_count\",\"NameLen1\",\"Cabin1\",\"HomePlanet\",\"CabinCategory\",\"RatioIDCabin\",\"Money\",\"VRDeck\",\"Spa\",\"RoomService\",\"MoneyCount\",\"CryoSleep\"],\"xaxis\":\"x\",\"y\":[0.0023730047202984743,0.02149096879515231,0.03715351564077928,0.037260832266615466,0.04448064791086696,0.04773102064771821,0.0624165352753337,0.06638987000291646,0.07472617595850325,0.08070559916312704,0.08674841581153238,0.10126980926904985,0.10335251485846492,0.10815231966326226,0.10986166487351672,0.1137916198487019,0.11693868695937457,0.11882532362329985,0.11976349412058411,0.13067396401137482,0.14439259107472263,0.19951424346781893,0.21164905412736917,0.22726401335620147,0.2505898656739637,0.4452881116156963,0.46722957756311007],\"yaxis\":\"y\",\"type\":\"bar\"}],                        {\"template\":{\"data\":{\"histogram2dcontour\":[{\"type\":\"histogram2dcontour\",\"colorbar\":{\"outlinewidth\":0,\"ticks\":\"\"},\"colorscale\":[[0.0,\"#0d0887\"],[0.1111111111111111,\"#46039f\"],[0.2222222222222222,\"#7201a8\"],[0.3333333333333333,\"#9c179e\"],[0.4444444444444444,\"#bd3786\"],[0.5555555555555556,\"#d8576b\"],[0.6666666666666666,\"#ed7953\"],[0.7777777777777778,\"#fb9f3a\"],[0.8888888888888888,\"#fdca26\"],[1.0,\"#f0f921\"]]}],\"choropleth\":[{\"type\":\"choropleth\",\"colorbar\":{\"outlinewidth\":0,\"ticks\":\"\"}}],\"histogram2d\":[{\"type\":\"histogram2d\",\"colorbar\":{\"outlinewidth\":0,\"ticks\":\"\"},\"colorscale\":[[0.0,\"#0d0887\"],[0.1111111111111111,\"#46039f\"],[0.2222222222222222,\"#7201a8\"],[0.3333333333333333,\"#9c179e\"],[0.4444444444444444,\"#bd3786\"],[0.5555555555555556,\"#d8576b\"],[0.6666666666666666,\"#ed7953\"],[0.7777777777777778,\"#fb9f3a\"],[0.8888888888888888,\"#fdca26\"],[1.0,\"#f0f921\"]]}],\"heatmap\":[{\"type\":\"heatmap\",\"colorbar\":{\"outlinewidth\":0,\"ticks\":\"\"},\"colorscale\":[[0.0,\"#0d0887\"],[0.1111111111111111,\"#46039f\"],[0.2222222222222222,\"#7201a8\"],[0.3333333333333333,\"#9c179e\"],[0.4444444444444444,\"#bd3786\"],[0.5555555555555556,\"#d8576b\"],[0.6666666666666666,\"#ed7953\"],[0.7777777777777778,\"#fb9f3a\"],[0.8888888888888888,\"#fdca26\"],[1.0,\"#f0f921\"]]}],\"heatmapgl\":[{\"type\":\"heatmapgl\",\"colorbar\":{\"outlinewidth\":0,\"ticks\":\"\"},\"colorscale\":[[0.0,\"#0d0887\"],[0.1111111111111111,\"#46039f\"],[0.2222222222222222,\"#7201a8\"],[0.3333333333333333,\"#9c179e\"],[0.4444444444444444,\"#bd3786\"],[0.5555555555555556,\"#d8576b\"],[0.6666666666666666,\"#ed7953\"],[0.7777777777777778,\"#fb9f3a\"],[0.8888888888888888,\"#fdca26\"],[1.0,\"#f0f921\"]]}],\"contourcarpet\":[{\"type\":\"contourcarpet\",\"colorbar\":{\"outlinewidth\":0,\"ticks\":\"\"}}],\"contour\":[{\"type\":\"contour\",\"colorbar\":{\"outlinewidth\":0,\"ticks\":\"\"},\"colorscale\":[[0.0,\"#0d0887\"],[0.1111111111111111,\"#46039f\"],[0.2222222222222222,\"#7201a8\"],[0.3333333333333333,\"#9c179e\"],[0.4444444444444444,\"#bd3786\"],[0.5555555555555556,\"#d8576b\"],[0.6666666666666666,\"#ed7953\"],[0.7777777777777778,\"#fb9f3a\"],[0.8888888888888888,\"#fdca26\"],[1.0,\"#f0f921\"]]}],\"surface\":[{\"type\":\"surface\",\"colorbar\":{\"outlinewidth\":0,\"ticks\":\"\"},\"colorscale\":[[0.0,\"#0d0887\"],[0.1111111111111111,\"#46039f\"],[0.2222222222222222,\"#7201a8\"],[0.3333333333333333,\"#9c179e\"],[0.4444444444444444,\"#bd3786\"],[0.5555555555555556,\"#d8576b\"],[0.6666666666666666,\"#ed7953\"],[0.7777777777777778,\"#fb9f3a\"],[0.8888888888888888,\"#fdca26\"],[1.0,\"#f0f921\"]]}],\"mesh3d\":[{\"type\":\"mesh3d\",\"colorbar\":{\"outlinewidth\":0,\"ticks\":\"\"}}],\"scatter\":[{\"fillpattern\":{\"fillmode\":\"overlay\",\"size\":10,\"solidity\":0.2},\"type\":\"scatter\"}],\"parcoords\":[{\"type\":\"parcoords\",\"line\":{\"colorbar\":{\"outlinewidth\":0,\"ticks\":\"\"}}}],\"scatterpolargl\":[{\"type\":\"scatterpolargl\",\"marker\":{\"colorbar\":{\"outlinewidth\":0,\"ticks\":\"\"}}}],\"bar\":[{\"error_x\":{\"color\":\"#2a3f5f\"},\"error_y\":{\"color\":\"#2a3f5f\"},\"marker\":{\"line\":{\"color\":\"#E5ECF6\",\"width\":0.5},\"pattern\":{\"fillmode\":\"overlay\",\"size\":10,\"solidity\":0.2}},\"type\":\"bar\"}],\"scattergeo\":[{\"type\":\"scattergeo\",\"marker\":{\"colorbar\":{\"outlinewidth\":0,\"ticks\":\"\"}}}],\"scatterpolar\":[{\"type\":\"scatterpolar\",\"marker\":{\"colorbar\":{\"outlinewidth\":0,\"ticks\":\"\"}}}],\"histogram\":[{\"marker\":{\"pattern\":{\"fillmode\":\"overlay\",\"size\":10,\"solidity\":0.2}},\"type\":\"histogram\"}],\"scattergl\":[{\"type\":\"scattergl\",\"marker\":{\"colorbar\":{\"outlinewidth\":0,\"ticks\":\"\"}}}],\"scatter3d\":[{\"type\":\"scatter3d\",\"line\":{\"colorbar\":{\"outlinewidth\":0,\"ticks\":\"\"}},\"marker\":{\"colorbar\":{\"outlinewidth\":0,\"ticks\":\"\"}}}],\"scattermapbox\":[{\"type\":\"scattermapbox\",\"marker\":{\"colorbar\":{\"outlinewidth\":0,\"ticks\":\"\"}}}],\"scatterternary\":[{\"type\":\"scatterternary\",\"marker\":{\"colorbar\":{\"outlinewidth\":0,\"ticks\":\"\"}}}],\"scattercarpet\":[{\"type\":\"scattercarpet\",\"marker\":{\"colorbar\":{\"outlinewidth\":0,\"ticks\":\"\"}}}],\"carpet\":[{\"aaxis\":{\"endlinecolor\":\"#2a3f5f\",\"gridcolor\":\"white\",\"linecolor\":\"white\",\"minorgridcolor\":\"white\",\"startlinecolor\":\"#2a3f5f\"},\"baxis\":{\"endlinecolor\":\"#2a3f5f\",\"gridcolor\":\"white\",\"linecolor\":\"white\",\"minorgridcolor\":\"white\",\"startlinecolor\":\"#2a3f5f\"},\"type\":\"carpet\"}],\"table\":[{\"cells\":{\"fill\":{\"color\":\"#EBF0F8\"},\"line\":{\"color\":\"white\"}},\"header\":{\"fill\":{\"color\":\"#C8D4E3\"},\"line\":{\"color\":\"white\"}},\"type\":\"table\"}],\"barpolar\":[{\"marker\":{\"line\":{\"color\":\"#E5ECF6\",\"width\":0.5},\"pattern\":{\"fillmode\":\"overlay\",\"size\":10,\"solidity\":0.2}},\"type\":\"barpolar\"}],\"pie\":[{\"automargin\":true,\"type\":\"pie\"}]},\"layout\":{\"autotypenumbers\":\"strict\",\"colorway\":[\"#636efa\",\"#EF553B\",\"#00cc96\",\"#ab63fa\",\"#FFA15A\",\"#19d3f3\",\"#FF6692\",\"#B6E880\",\"#FF97FF\",\"#FECB52\"],\"font\":{\"color\":\"#2a3f5f\"},\"hovermode\":\"closest\",\"hoverlabel\":{\"align\":\"left\"},\"paper_bgcolor\":\"white\",\"plot_bgcolor\":\"#E5ECF6\",\"polar\":{\"bgcolor\":\"#E5ECF6\",\"angularaxis\":{\"gridcolor\":\"white\",\"linecolor\":\"white\",\"ticks\":\"\"},\"radialaxis\":{\"gridcolor\":\"white\",\"linecolor\":\"white\",\"ticks\":\"\"}},\"ternary\":{\"bgcolor\":\"#E5ECF6\",\"aaxis\":{\"gridcolor\":\"white\",\"linecolor\":\"white\",\"ticks\":\"\"},\"baxis\":{\"gridcolor\":\"white\",\"linecolor\":\"white\",\"ticks\":\"\"},\"caxis\":{\"gridcolor\":\"white\",\"linecolor\":\"white\",\"ticks\":\"\"}},\"coloraxis\":{\"colorbar\":{\"outlinewidth\":0,\"ticks\":\"\"}},\"colorscale\":{\"sequential\":[[0.0,\"#0d0887\"],[0.1111111111111111,\"#46039f\"],[0.2222222222222222,\"#7201a8\"],[0.3333333333333333,\"#9c179e\"],[0.4444444444444444,\"#bd3786\"],[0.5555555555555556,\"#d8576b\"],[0.6666666666666666,\"#ed7953\"],[0.7777777777777778,\"#fb9f3a\"],[0.8888888888888888,\"#fdca26\"],[1.0,\"#f0f921\"]],\"sequentialminus\":[[0.0,\"#0d0887\"],[0.1111111111111111,\"#46039f\"],[0.2222222222222222,\"#7201a8\"],[0.3333333333333333,\"#9c179e\"],[0.4444444444444444,\"#bd3786\"],[0.5555555555555556,\"#d8576b\"],[0.6666666666666666,\"#ed7953\"],[0.7777777777777778,\"#fb9f3a\"],[0.8888888888888888,\"#fdca26\"],[1.0,\"#f0f921\"]],\"diverging\":[[0,\"#8e0152\"],[0.1,\"#c51b7d\"],[0.2,\"#de77ae\"],[0.3,\"#f1b6da\"],[0.4,\"#fde0ef\"],[0.5,\"#f7f7f7\"],[0.6,\"#e6f5d0\"],[0.7,\"#b8e186\"],[0.8,\"#7fbc41\"],[0.9,\"#4d9221\"],[1,\"#276419\"]]},\"xaxis\":{\"gridcolor\":\"white\",\"linecolor\":\"white\",\"ticks\":\"\",\"title\":{\"standoff\":15},\"zerolinecolor\":\"white\",\"automargin\":true,\"zerolinewidth\":2},\"yaxis\":{\"gridcolor\":\"white\",\"linecolor\":\"white\",\"ticks\":\"\",\"title\":{\"standoff\":15},\"zerolinecolor\":\"white\",\"automargin\":true,\"zerolinewidth\":2},\"scene\":{\"xaxis\":{\"backgroundcolor\":\"#E5ECF6\",\"gridcolor\":\"white\",\"linecolor\":\"white\",\"showbackground\":true,\"ticks\":\"\",\"zerolinecolor\":\"white\",\"gridwidth\":2},\"yaxis\":{\"backgroundcolor\":\"#E5ECF6\",\"gridcolor\":\"white\",\"linecolor\":\"white\",\"showbackground\":true,\"ticks\":\"\",\"zerolinecolor\":\"white\",\"gridwidth\":2},\"zaxis\":{\"backgroundcolor\":\"#E5ECF6\",\"gridcolor\":\"white\",\"linecolor\":\"white\",\"showbackground\":true,\"ticks\":\"\",\"zerolinecolor\":\"white\",\"gridwidth\":2}},\"shapedefaults\":{\"line\":{\"color\":\"#2a3f5f\"}},\"annotationdefaults\":{\"arrowcolor\":\"#2a3f5f\",\"arrowhead\":0,\"arrowwidth\":1},\"geo\":{\"bgcolor\":\"white\",\"landcolor\":\"#E5ECF6\",\"subunitcolor\":\"white\",\"showland\":true,\"showlakes\":true,\"lakecolor\":\"white\"},\"title\":{\"x\":0.05},\"mapbox\":{\"style\":\"light\"}}},\"xaxis\":{\"anchor\":\"y\",\"domain\":[0.0,1.0],\"title\":{\"text\":\"index\"}},\"yaxis\":{\"anchor\":\"x\",\"domain\":[0.0,1.0],\"title\":{\"text\":\"value\"}},\"legend\":{\"title\":{\"text\":\"variable\"},\"tracegroupgap\":0},\"title\":{\"text\":\"Absolute correlations of all features to Transported column\"},\"barmode\":\"relative\"},                        {\"responsive\": true}                    ).then(function(){\n",
       "                            \n",
       "var gd = document.getElementById('11157503-a6a4-4f3f-9c7e-08d381630fcc');\n",
       "var x = new MutationObserver(function (mutations, observer) {{\n",
       "        var display = window.getComputedStyle(gd).display;\n",
       "        if (!display || display === 'none') {{\n",
       "            console.log([gd, 'removed!']);\n",
       "            Plotly.purge(gd);\n",
       "            observer.disconnect();\n",
       "        }}\n",
       "}});\n",
       "\n",
       "// Listen for the removal of the full notebook cells\n",
       "var notebookContainer = gd.closest('#notebook-container');\n",
       "if (notebookContainer) {{\n",
       "    x.observe(notebookContainer, {childList: true});\n",
       "}}\n",
       "\n",
       "// Listen for the clearing of the current output cell\n",
       "var outputEl = gd.closest('.output');\n",
       "if (outputEl) {{\n",
       "    x.observe(outputEl, {childList: true});\n",
       "}}\n",
       "\n",
       "                        })                };                });            </script>        </div>"
      ]
     },
     "metadata": {},
     "output_type": "display_data"
    }
   ],
   "source": [
    "Target = update(Target)\n",
    "import plotly.express as px\n",
    "corr = abs(Target.corr()['Transported']).sort_values().drop('Transported')\n",
    "px.bar(corr, title='Absolute correlations of all features to Transported column')"
   ]
  },
  {
   "cell_type": "code",
   "execution_count": 47,
   "id": "c0614372",
   "metadata": {
    "execution": {
     "iopub.execute_input": "2022-12-17T04:29:42.400813Z",
     "iopub.status.busy": "2022-12-17T04:29:42.400354Z",
     "iopub.status.idle": "2022-12-17T04:29:42.797582Z",
     "shell.execute_reply": "2022-12-17T04:29:42.796631Z"
    },
    "papermill": {
     "duration": 0.431189,
     "end_time": "2022-12-17T04:29:42.800071",
     "exception": false,
     "start_time": "2022-12-17T04:29:42.368882",
     "status": "completed"
    },
    "tags": []
   },
   "outputs": [
    {
     "data": {
      "image/png": "[encoded data removed]",
      "text/plain": [
       "<Figure size 432x288 with 1 Axes>"
      ]
     },
     "metadata": {
      "needs_background": "light"
     },
     "output_type": "display_data"
    }
   ],
   "source": [
    "Target.nunique().plot.bar(title=\"Cardinality in our columns\");"
   ]
  },
  {
   "cell_type": "markdown",
   "id": "30fb952a",
   "metadata": {
    "papermill": {
     "duration": 0.032512,
     "end_time": "2022-12-17T04:29:42.865404",
     "exception": false,
     "start_time": "2022-12-17T04:29:42.832892",
     "status": "completed"
    },
    "tags": []
   },
   "source": [
    "### To increase processing speed, remove complex features"
   ]
  },
  {
   "cell_type": "code",
   "execution_count": 48,
   "id": "d16bfde1",
   "metadata": {
    "execution": {
     "iopub.execute_input": "2022-12-17T04:29:42.934640Z",
     "iopub.status.busy": "2022-12-17T04:29:42.933569Z",
     "iopub.status.idle": "2022-12-17T04:29:42.942360Z",
     "shell.execute_reply": "2022-12-17T04:29:42.940873Z"
    },
    "papermill": {
     "duration": 0.047695,
     "end_time": "2022-12-17T04:29:42.946502",
     "exception": false,
     "start_time": "2022-12-17T04:29:42.898807",
     "status": "completed"
    },
    "tags": []
   },
   "outputs": [],
   "source": [
    "Target.drop(['ID1',\n",
    "             'Cabin2',\n",
    "             'Age'],axis=1, inplace = True)"
   ]
  },
  {
   "cell_type": "code",
   "execution_count": 49,
   "id": "03a33082",
   "metadata": {
    "execution": {
     "iopub.execute_input": "2022-12-17T04:29:43.021841Z",
     "iopub.status.busy": "2022-12-17T04:29:43.021351Z",
     "iopub.status.idle": "2022-12-17T04:29:44.003405Z",
     "shell.execute_reply": "2022-12-17T04:29:44.001630Z"
    },
    "papermill": {
     "duration": 1.026146,
     "end_time": "2022-12-17T04:29:44.007716",
     "exception": false,
     "start_time": "2022-12-17T04:29:42.981570",
     "status": "completed"
    },
    "tags": []
   },
   "outputs": [
    {
     "data": {
      "text/html": [
       "<style type='text/css'>\n",
       ".datatable table.frame { margin-bottom: 0; }\n",
       ".datatable table.frame thead { border-bottom: none; }\n",
       ".datatable table.frame tr.coltypes td {  color: #FFFFFF;  line-height: 6px;  padding: 0 0.5em;}\n",
       ".datatable .bool    { background: #DDDD99; }\n",
       ".datatable .object  { background: #565656; }\n",
       ".datatable .int     { background: #5D9E5D; }\n",
       ".datatable .float   { background: #4040CC; }\n",
       ".datatable .str     { background: #CC4040; }\n",
       ".datatable .time    { background: #40CC40; }\n",
       ".datatable .row_index {  background: var(--jp-border-color3);  border-right: 1px solid var(--jp-border-color0);  color: var(--jp-ui-font-color3);  font-size: 9px;}\n",
       ".datatable .frame tbody td { text-align: left; }\n",
       ".datatable .frame tr.coltypes .row_index {  background: var(--jp-border-color0);}\n",
       ".datatable th:nth-child(2) { padding-left: 12px; }\n",
       ".datatable .hellipsis {  color: var(--jp-cell-editor-border-color);}\n",
       ".datatable .vellipsis {  background: var(--jp-layout-color0);  color: var(--jp-cell-editor-border-color);}\n",
       ".datatable .na {  color: var(--jp-cell-editor-border-color);  font-size: 80%;}\n",
       ".datatable .sp {  opacity: 0.25;}\n",
       ".datatable .footer { font-size: 9px; }\n",
       ".datatable .frame_dimensions {  background: var(--jp-border-color3);  border-top: 1px solid var(--jp-border-color0);  color: var(--jp-ui-font-color3);  display: inline-block;  opacity: 0.6;  padding: 1px 10px 1px 5px;}\n",
       ".datatable .frame thead tr.colnames {  background-image: url('data:image/png;base64,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');  background-repeat: repeat-x;  background-size: 14px;  height: 28px;}\n",
       "</style>\n"
      ],
      "text/plain": [
       "<IPython.core.display.HTML object>"
      ]
     },
     "metadata": {},
     "output_type": "display_data"
    }
   ],
   "source": [
    "from catboost import CatBoostRegressor, CatBoostClassifier\n",
    "from lightgbm import LGBMRegressor, LGBMClassifier\n",
    "from sklearn.ensemble import RandomForestRegressor, GradientBoostingRegressor, AdaBoostRegressor, RandomForestClassifier, GradientBoostingClassifier, VotingClassifier, AdaBoostClassifier\n",
    "from sklearn.linear_model import LinearRegression, Ridge, Lasso, ElasticNet, LogisticRegression, LassoCV, RidgeCV\n",
    "from sklearn.neighbors import KNeighborsRegressor, KNeighborsClassifier, LocalOutlierFactor\n",
    "from sklearn.tree import DecisionTreeRegressor, DecisionTreeClassifier\n",
    "from xgboost import XGBRegressor, XGBClassifier\n",
    "from sklearn.svm import SVC\n",
    "from sklearn.naive_bayes import GaussianNB\n",
    "from sklearn.linear_model import Perceptron\n",
    "from sklearn.svm import LinearSVC\n",
    "from sklearn.linear_model import SGDClassifier\n",
    "\n",
    "from sklearn.exceptions import ConvergenceWarning\n",
    "# from pandas_profiling import ProfileReport\n",
    "from sklearn.svm import SVR\n",
    "from sklearn.preprocessing import MinMaxScaler, LabelEncoder, StandardScaler, RobustScaler, OrdinalEncoder\n",
    "from sklearn.metrics import mean_squared_error, accuracy_score\n",
    "from sklearn.linear_model import LinearRegression\n",
    "from sklearn.model_selection import train_test_split, cross_val_score, GridSearchCV, KFold, cross_validate, StratifiedKFold\n",
    "from sklearn.model_selection import RandomizedSearchCV\n",
    "from sklearn.impute import SimpleImputer, KNNImputer\n",
    "# IterativeImputer\n",
    "\n",
    "from sklearn.compose import ColumnTransformer\n",
    "from sklearn.experimental import enable_iterative_imputer\n",
    "from itertools import permutations, combinations"
   ]
  },
  {
   "cell_type": "markdown",
   "id": "30cae6ce",
   "metadata": {
    "papermill": {
     "duration": 0.02946,
     "end_time": "2022-12-17T04:29:44.067768",
     "exception": false,
     "start_time": "2022-12-17T04:29:44.038308",
     "status": "completed"
    },
    "tags": []
   },
   "source": [
    "## We are looking for basic models, immediately select the best 15 features for each."
   ]
  },
  {
   "cell_type": "markdown",
   "id": "596b471d",
   "metadata": {
    "papermill": {
     "duration": 0.029457,
     "end_time": "2022-12-17T04:29:44.127656",
     "exception": false,
     "start_time": "2022-12-17T04:29:44.098199",
     "status": "completed"
    },
    "tags": []
   },
   "source": [
    "### This can be done with a library, but we will do it manually, it's faster."
   ]
  },
  {
   "cell_type": "code",
   "execution_count": 50,
   "id": "656231cb",
   "metadata": {
    "execution": {
     "iopub.execute_input": "2022-12-17T04:29:44.190959Z",
     "iopub.status.busy": "2022-12-17T04:29:44.190468Z",
     "iopub.status.idle": "2022-12-17T04:29:44.195922Z",
     "shell.execute_reply": "2022-12-17T04:29:44.194608Z"
    },
    "papermill": {
     "duration": 0.040112,
     "end_time": "2022-12-17T04:29:44.198316",
     "exception": false,
     "start_time": "2022-12-17T04:29:44.158204",
     "status": "completed"
    },
    "tags": []
   },
   "outputs": [],
   "source": [
    "# %%time\n",
    "# from sklearn.feature_selection import SequentialFeatureSelector\n",
    "# # from mlxtend.feature_selection import ExhaustiveFeatureSelector\n",
    "# model_fs = CatBoostClassifier(verbose=False)\n",
    "# sf = SequentialFeatureSelector(model_fs, scoring='accuracy', direction = 'backward')\n",
    "# sf.fit(X, y)"
   ]
  },
  {
   "cell_type": "code",
   "execution_count": 51,
   "id": "f8223ee9",
   "metadata": {
    "execution": {
     "iopub.execute_input": "2022-12-17T04:29:44.260895Z",
     "iopub.status.busy": "2022-12-17T04:29:44.260436Z",
     "iopub.status.idle": "2022-12-17T04:31:26.955136Z",
     "shell.execute_reply": "2022-12-17T04:31:26.954137Z"
    },
    "papermill": {
     "duration": 102.729149,
     "end_time": "2022-12-17T04:31:26.957695",
     "exception": false,
     "start_time": "2022-12-17T04:29:44.228546",
     "status": "completed"
    },
    "tags": []
   },
   "outputs": [
    {
     "name": "stdout",
     "output_type": "stream",
     "text": [
      "Base Models....\n",
      "accuracy: [0.8  0.77 0.8  0.81 0.81] 0.7982 (SVC)\n",
      "accuracy: [0.8  0.77 0.8  0.81 0.8 ] 0.7969 (LSVC)\n",
      "accuracy: [0.7  0.72 0.7  0.72 0.78] 0.7229 (PC)\n",
      "accuracy: [0.8  0.76 0.79 0.8  0.8 ] 0.7903 (SGDC)\n",
      "accuracy: [0.76 0.74 0.75 0.77 0.76] 0.7566 (GB)\n",
      "accuracy: [0.8  0.78 0.79 0.81 0.82] 0.8004 (GBM)\n",
      "accuracy: [0.8  0.77 0.79 0.8  0.8 ] 0.7922 (Adaboost)\n",
      "accuracy: [0.8  0.77 0.8  0.81 0.8 ] 0.7967 (LR)\n",
      "accuracy: [0.74 0.73 0.74 0.76 0.74] 0.7449 (CART)\n",
      "accuracy: [0.8  0.77 0.8  0.8  0.81] 0.7951 (RF)\n",
      "accuracy: [0.76 0.73 0.76 0.77 0.76] 0.7542 (KNN)\n",
      "accuracy: [0.82 0.78 0.8  0.82 0.82] 0.8105 (CatBoost)\n",
      "accuracy: [0.8  0.77 0.79 0.81 0.81] 0.797 (XGBoost)\n",
      "accuracy: [0.81 0.79 0.8  0.82 0.82] 0.8085 (LightGBM)\n",
      "CPU times: user 3min 5s, sys: 24.4 s, total: 3min 30s\n",
      "Wall time: 1min 42s\n"
     ]
    }
   ],
   "source": [
    "%%time\n",
    "kfold = KFold(n_splits=5, shuffle=True, random_state=10) \n",
    "\n",
    "X = Target.drop('Transported',axis=1)\n",
    "y = Target['Transported'].astype(int)\n",
    "\n",
    "feature_names = X.columns\n",
    "def base_models(X, y, scoring=\"accuracy\"):\n",
    "    print(\"Base Models....\")\n",
    "    classifiers = [\n",
    "        ('SVC', SVC()),\n",
    "        ('LSVC',  LinearSVC(max_iter=10000)),\n",
    "        ('PC',  Perceptron()),\n",
    "        ('SGDC',  SGDClassifier()),\n",
    "        ('GB', GaussianNB()),\n",
    "        ('GBM', GradientBoostingClassifier()),\n",
    "        ('Adaboost', AdaBoostClassifier()),\n",
    "        ('LR', LogisticRegression()),\n",
    "        (\"CART\", DecisionTreeClassifier()),\n",
    "        (\"RF\", RandomForestClassifier()),\n",
    "        ('KNN', KNeighborsClassifier()),\n",
    "        (\"CatBoost\" , CatBoostClassifier(verbose=False)),\n",
    "        ('XGBoost', XGBClassifier()),\n",
    "        ('LightGBM', LGBMClassifier(boosting_type = 'dart',objective='binary')),\n",
    "                   ]\n",
    "    best_feature = {}\n",
    "    for name, classifier in classifiers:\n",
    "        classifier = classifier.fit(X,y)\n",
    "        cv_results = cross_validate(classifier, X, y, cv=kfold, scoring=scoring)\n",
    "        print(f\"{scoring}: {(cv_results['test_score'])} {round(cv_results['test_score'].mean(), 4)} ({name})\")\n",
    "\n",
    "        if name in {'XGBoost','LightGBM',\"CatBoost\"}:\n",
    "            importances = classifier.feature_importances_\n",
    "            indices = np.argsort(importances)[::-1]\n",
    "            feature = []\n",
    "#             print(\"Feature importances:\")\n",
    "            for f, idx in enumerate(indices[:15]):\n",
    "#                 print(\"{:2d}. feature '{}' ({:.4f})\".format(f + 1, feature_names[idx], importances[idx]))\n",
    "                feature.append(feature_names[idx])\n",
    "            best_feature[name] = feature\n",
    "    return best_feature  \n",
    "best_feature = base_models(X, y, scoring=\"accuracy\")"
   ]
  },
  {
   "cell_type": "code",
   "execution_count": 52,
   "id": "0e925b95",
   "metadata": {
    "execution": {
     "iopub.execute_input": "2022-12-17T04:31:27.025096Z",
     "iopub.status.busy": "2022-12-17T04:31:27.024656Z",
     "iopub.status.idle": "2022-12-17T04:31:27.032680Z",
     "shell.execute_reply": "2022-12-17T04:31:27.031372Z"
    },
    "papermill": {
     "duration": 0.04556,
     "end_time": "2022-12-17T04:31:27.035178",
     "exception": false,
     "start_time": "2022-12-17T04:31:26.989618",
     "status": "completed"
    },
    "tags": []
   },
   "outputs": [
    {
     "data": {
      "text/plain": [
       "dict_keys(['CatBoost', 'XGBoost', 'LightGBM'])"
      ]
     },
     "execution_count": 52,
     "metadata": {},
     "output_type": "execute_result"
    }
   ],
   "source": [
    "best_feature.keys()"
   ]
  },
  {
   "cell_type": "markdown",
   "id": "c339dba6",
   "metadata": {
    "papermill": {
     "duration": 0.03097,
     "end_time": "2022-12-17T04:31:27.097493",
     "exception": false,
     "start_time": "2022-12-17T04:31:27.066523",
     "status": "completed"
    },
    "tags": []
   },
   "source": [
    "## Without hyperparameters, CatBoost on cross-validation gives 81% accuracy."
   ]
  },
  {
   "cell_type": "code",
   "execution_count": 53,
   "id": "344931b0",
   "metadata": {
    "execution": {
     "iopub.execute_input": "2022-12-17T04:31:27.164054Z",
     "iopub.status.busy": "2022-12-17T04:31:27.163264Z",
     "iopub.status.idle": "2022-12-17T04:32:38.576251Z",
     "shell.execute_reply": "2022-12-17T04:32:38.573703Z"
    },
    "papermill": {
     "duration": 71.45059,
     "end_time": "2022-12-17T04:32:38.580359",
     "exception": false,
     "start_time": "2022-12-17T04:31:27.129769",
     "status": "completed"
    },
    "tags": []
   },
   "outputs": [
    {
     "name": "stdout",
     "output_type": "stream",
     "text": [
      "Hyperparameter Optimization....\n",
      "########## CatBoost ##########\n",
      "accuracy (Before): 0.8124\n",
      "accuracy (After): 0.8112\n",
      "CatBoost best params: {'iterations': 500}\n",
      "\n",
      "########## XGBoost ##########\n",
      "accuracy (Before): 0.8013\n",
      "accuracy (After): 0.8019\n",
      "XGBoost best params: {'n_estimators': 50}\n",
      "\n",
      "########## LightGBM ##########\n",
      "accuracy (Before): 0.8078\n",
      "accuracy (After): 0.8085\n",
      "LightGBM best params: {'n_estimators': 70}\n",
      "\n",
      "CPU times: user 2min 25s, sys: 24.1 s, total: 2min 49s\n",
      "Wall time: 1min 11s\n"
     ]
    }
   ],
   "source": [
    "%%time\n",
    "  \n",
    "Cat_param = {\n",
    "            'iterations': range(500,1000,500),\n",
    "#             'depth':range(4,10), \n",
    "#             'learning_rate':[0.01,0.05,0.1], \n",
    "#             'l2_leaf_reg': [0.05,0.01],\n",
    "#             'gamma' : [0,1],\n",
    "#             'max_depth': range(5, 10),\n",
    "#             'border_count':[32,5,10,20,50,100,200],\n",
    "#             'ctr_border_count':[50,5,10,20,100,200],\n",
    "#             'thread_count': range(1,5),\n",
    "#             'n_estimators': range(600,1500,300),\n",
    "#             'subsample': np.linspace(1,10, num=10)       \n",
    "#             \"objective\": [\"Logloss\", \"CrossEntropy\"],\n",
    "#             'feature_border_type':['Median','Uniform','UniformAndQuantiles','GreedyLogSum','MaxLogSum','MinEntropy'],\n",
    "#             'bootstrap_type':[\"Bayesian\", \"Bernoulli\", \"MVS\"]\n",
    "}\n",
    "\n",
    "xgb_parameters = { \n",
    "#                 'booster': ['gbtree','gblinear'],\n",
    "#                 'learning_rate'   : [0.2, 0.1, 0.05], \n",
    "#                 'max_depth'       : [3, 4, 8],\n",
    "#                 'min_child_weight': [10, 15, 20],\n",
    "                'n_estimators'    : range(50,100,50),\n",
    "#                 'eval_metric'     : ['auc', 'mlogloss']\n",
    "} \n",
    "\n",
    "\n",
    "lgbm_parameters = {\n",
    "                    'n_estimators': range(70,110,10),  \n",
    "#                     'max_depth': range(1,10),\n",
    "#                     'num_leaves': range(2,15),\n",
    "#                     'max_bin': range(3,40),\n",
    "#                     'subsample': np.linspace(0,1, num=10),\n",
    "#                     'metric': ['mse','mae'],\n",
    "#                     'bagging_freq': range(3,50),\n",
    "#                     'reg_lambda':np.linspace(0,1, num=20),\n",
    "#                     'reg_alpha':np.linspace(0,1, num=20),\n",
    "#                     'learning_rate': np.linspace(0.001,0.2, num=10),\n",
    "#                     'feature_fraction': np.linspace(0.1, 0.8, num=25),\n",
    "#                     'boosting_type': ['gbdt', 'dart', 'goss'],\n",
    "                        }\n",
    "\n",
    "classifiers = [\n",
    "#         ('GB', GaussianNB(), param_grid_gnb),\n",
    "#         ('PC',  Perceptron(), PC_param),\n",
    "#         ('LR', LogisticRegression(solver='liblinear', penalty='l2'), param_grid_logit),\n",
    "#         ('KNN', KNeighborsClassifier(), knn_params),\n",
    "#         ('SVC', SVC(kernel='rbf',C = 12), SVC_param), \n",
    "#         ('LSVC',  LinearSVC(C = 0.1), LSVC_param),\n",
    "#         (\"CART\", DecisionTreeClassifier(), cart_params),\n",
    "#         ('Adaboost', AdaBoostClassifier(), Adaboost_params),\n",
    "#         ('GBM', GradientBoostingClassifier(), gbm_parameters),\n",
    "    (\"CatBoost\" , CatBoostClassifier(verbose=False),Cat_param),\n",
    "    ('XGBoost', XGBClassifier(), xgb_parameters),\n",
    "    ('LightGBM', LGBMClassifier(boosting_type = 'dart'), lgbm_parameters),\n",
    "        ]\n",
    "\n",
    "\n",
    "def hyperparameter_optimization(X, y, cv=kfold, scoring=\"accuracy\"):\n",
    "    print(\"Hyperparameter Optimization....\")\n",
    "    best_models = {}\n",
    "    for name, classifier, params in classifiers:\n",
    "        print(f\"########## {name} ##########\")\n",
    "        L = X[best_feature[name]]\n",
    "#         L = X\n",
    "        cv_results = cross_validate(classifier, L, y, cv=cv, scoring=scoring)\n",
    "        print(f\"{scoring} (Before): {round(cv_results['test_score'].mean(), 4)}\")\n",
    "#         gs_best = RandomizedSearchCV(classifier, params, cv=cv, n_jobs=-1,n_iter=100, verbose=False).fit(L, y)\n",
    "        gs_best = GridSearchCV(classifier, params, cv=cv, n_jobs=-1,verbose=False).fit(L, y)\n",
    "        final_model = classifier.set_params(**gs_best.best_params_)\n",
    "\n",
    "        cv_results = cross_validate(final_model, L, y, cv=cv, scoring=scoring)\n",
    "        print(f\"{scoring} (After): {round(cv_results['test_score'].mean(), 4)}\")\n",
    "        print(f\"{name} best params: {gs_best.best_params_}\", end=\"\\n\\n\")\n",
    "        best_models[name] = final_model\n",
    "        \n",
    "    return best_models\n",
    "\n",
    "best_models = hyperparameter_optimization(X, y, scoring=\"accuracy\")"
   ]
  },
  {
   "cell_type": "markdown",
   "id": "39ce697b",
   "metadata": {
    "papermill": {
     "duration": 0.030872,
     "end_time": "2022-12-17T04:32:38.644314",
     "exception": false,
     "start_time": "2022-12-17T04:32:38.613442",
     "status": "completed"
    },
    "tags": []
   },
   "source": [
    "## Each model is trained on its 15 features. Now, by common efforts, we determine our survivors."
   ]
  },
  {
   "cell_type": "markdown",
   "id": "d5248920",
   "metadata": {
    "papermill": {
     "duration": 0.034108,
     "end_time": "2022-12-17T04:32:38.711860",
     "exception": false,
     "start_time": "2022-12-17T04:32:38.677752",
     "status": "completed"
    },
    "tags": []
   },
   "source": [
    "# Friends! I am just learning and the selection of hyperparameters for me is still a big book that I have not opened, so this section in this notebook will be left out of brackets."
   ]
  },
  {
   "cell_type": "code",
   "execution_count": 54,
   "id": "a407a78b",
   "metadata": {
    "execution": {
     "iopub.execute_input": "2022-12-17T04:32:38.779531Z",
     "iopub.status.busy": "2022-12-17T04:32:38.778995Z",
     "iopub.status.idle": "2022-12-17T04:33:00.625905Z",
     "shell.execute_reply": "2022-12-17T04:33:00.624811Z"
    },
    "papermill": {
     "duration": 21.885061,
     "end_time": "2022-12-17T04:33:00.629445",
     "exception": false,
     "start_time": "2022-12-17T04:32:38.744384",
     "status": "completed"
    },
    "tags": []
   },
   "outputs": [
    {
     "name": "stdout",
     "output_type": "stream",
     "text": [
      "Voting Classifier...\n",
      "Accuracy: 0.8083542715646136\n",
      "F1Score: 0.8123521064294119\n",
      "ROC_AUC: 0.901985653043482\n"
     ]
    }
   ],
   "source": [
    "def voting_classifier(best_models, X, y):\n",
    "    print(\"Voting Classifier...\")\n",
    "\n",
    "    voting_clf = VotingClassifier(estimators=[\n",
    "                                            ('CatBoost', best_models[\"CatBoost\"]),\n",
    "                                              ('XGBoost', best_models[\"XGBoost\"]),\n",
    "                                              ('LightGBM', best_models[\"LightGBM\"])\n",
    "                                            ],voting='soft').fit(X, y)\n",
    "\n",
    "    cv_results = cross_validate(voting_clf, X, y, cv=kfold, scoring=[\"accuracy\", \"f1\", \"roc_auc\"])\n",
    "    print(f\"Accuracy: {cv_results['test_accuracy'].mean()}\")\n",
    "    print(f\"F1Score: {cv_results['test_f1'].mean()}\")\n",
    "    print(f\"ROC_AUC: {cv_results['test_roc_auc'].mean()}\")\n",
    "    return voting_clf\n",
    "\n",
    "voting_clf = voting_classifier(best_models, X, y)"
   ]
  },
  {
   "cell_type": "markdown",
   "id": "bdfb8ab2",
   "metadata": {
    "papermill": {
     "duration": 0.031408,
     "end_time": "2022-12-17T04:33:00.695730",
     "exception": false,
     "start_time": "2022-12-17T04:33:00.664322",
     "status": "completed"
    },
    "tags": []
   },
   "source": [
    "# Friends! This is my first big work, I put my soul into it, I'm waiting for comments and feedback! It is very important for me!"
   ]
  },
  {
   "cell_type": "code",
   "execution_count": 55,
   "id": "bc17203f",
   "metadata": {
    "execution": {
     "iopub.execute_input": "2022-12-17T04:33:00.763000Z",
     "iopub.status.busy": "2022-12-17T04:33:00.762563Z",
     "iopub.status.idle": "2022-12-17T04:33:00.862505Z",
     "shell.execute_reply": "2022-12-17T04:33:00.861195Z"
    },
    "papermill": {
     "duration": 0.137288,
     "end_time": "2022-12-17T04:33:00.865793",
     "exception": false,
     "start_time": "2022-12-17T04:33:00.728505",
     "status": "completed"
    },
    "tags": []
   },
   "outputs": [],
   "source": [
    "df_test = df_train[8693:]\n",
    "df_test.drop(['ID1','Cabin2','Age'],axis=1, inplace = True)\n",
    "prediction = voting_clf.predict(df_test)\n",
    "df_for_sub =pd.read_csv(\"/kaggle/input/spaceship-titanic/test.csv\")\n",
    "df_for_sub['Transported']=prediction\n",
    "df_for_sub['Transported'] = df_for_sub['Transported'].astype(bool)\n",
    "df_for_sub[['PassengerId','Transported']].to_csv('submission.csv', index=False)"
   ]
  },
  {
   "cell_type": "code",
   "execution_count": 56,
   "id": "1858c9f4",
   "metadata": {
    "execution": {
     "iopub.execute_input": "2022-12-17T04:33:00.934380Z",
     "iopub.status.busy": "2022-12-17T04:33:00.932850Z",
     "iopub.status.idle": "2022-12-17T04:33:00.943044Z",
     "shell.execute_reply": "2022-12-17T04:33:00.941823Z"
    },
    "papermill": {
     "duration": 0.047143,
     "end_time": "2022-12-17T04:33:00.945808",
     "exception": false,
     "start_time": "2022-12-17T04:33:00.898665",
     "status": "completed"
    },
    "tags": []
   },
   "outputs": [
    {
     "data": {
      "text/plain": [
       "' Interesting library. The best result will not select, but allows you to understand the direction of the search. \\nBut if you have enough time, then it will select very optimal parameters.'"
      ]
     },
     "execution_count": 56,
     "metadata": {},
     "output_type": "execute_result"
    }
   ],
   "source": [
    "''' Interesting library. The best result will not select, but allows you to understand the direction of the search. \n",
    "But if you have enough time, then it will select very optimal parameters.'''\n",
    "\n",
    "# import optuna\n",
    "# def objective(trial):\n",
    "#     train_x, valid_x, train_y, valid_y = train_test_split(X,y, test_size=0.2)\n",
    "#     param = {\n",
    "#         'objective': trial.suggest_categorical(\"objective\", [\"Logloss\", \"CrossEntropy\"]),\n",
    "#         'feature_border_type': trial.suggest_categorical(\"feature_border_type\", \n",
    "#                                                          ['Median','Uniform',\n",
    "#                                                           'UniformAndQuantiles','GreedyLogSum',\n",
    "#                                                           'MaxLogSum','MinEntropy']),\n",
    "# #         'iterations': trial.suggest_int(\"iterations\", 100, 1200),\n",
    "# #         'learning_rate':trial.suggest_float(\"learning_rate\", 1e-3, 1e-1, log=True),\n",
    "# #         'depth':trial.suggest_int(\"depth\", 4,8),\n",
    "# #         'l2_leaf_reg':trial.suggest_float(\"l2_leaf_reg\", 1e-8, 1, log=True),\n",
    "#         'bootstrap_type':trial.suggest_categorical(\"bootstrap_type\", [\"Bayesian\", \"Bernoulli\", \"MVS\"]),\n",
    "# #         'random_strength':trial.suggest_float(\"random_strength\", 1e-8, 1, log=True),\n",
    "# #         'od_type':trial.suggest_categorical(\"od_type\", [\"IncToDec\", \"Iter\"]),\n",
    "# #         'od_wait':trial.suggest_int(\"od_wait\", 10, 50),\n",
    "#         'verbose' :False\n",
    "#     }\n",
    "\n",
    "# #     if param[\"bootstrap_type\"] == \"Bayesian\":\n",
    "# #         param[\"bagging_temperature\"] = trial.suggest_float(\"bagging_temperature\", 0, 10)\n",
    "# #     elif param[\"bootstrap_type\"] == \"Bernoulli\":\n",
    "# #         param[\"subsample\"] = trial.suggest_float(\"subsample\", 0.1, 1)\n",
    "        \n",
    "#     model = CatBoostClassifier(**param)\n",
    "    \n",
    "#     model.fit(train_x, train_y)\n",
    "#     y_pred = model.predict(valid_x)\n",
    "    \n",
    "#     return accuracy_score(valid_y, y_pred)"
   ]
  },
  {
   "cell_type": "code",
   "execution_count": 57,
   "id": "6c943bd5",
   "metadata": {
    "execution": {
     "iopub.execute_input": "2022-12-17T04:33:01.014272Z",
     "iopub.status.busy": "2022-12-17T04:33:01.013595Z",
     "iopub.status.idle": "2022-12-17T04:33:01.019730Z",
     "shell.execute_reply": "2022-12-17T04:33:01.018263Z"
    },
    "papermill": {
     "duration": 0.044229,
     "end_time": "2022-12-17T04:33:01.022673",
     "exception": false,
     "start_time": "2022-12-17T04:33:00.978444",
     "status": "completed"
    },
    "tags": []
   },
   "outputs": [],
   "source": [
    "# optuna.logging.set_verbosity(optuna.logging.WARNING)\n",
    "# from optuna.samplers import TPESampler\n",
    "# sampler = TPESampler(seed=1)\n",
    "# study = optuna.create_study(study_name=\"CatBoost\", direction=\"maximize\", sampler=sampler)\n",
    "# study.optimize(objective, n_trials=2500, timeout=18000)"
   ]
  },
  {
   "cell_type": "code",
   "execution_count": 58,
   "id": "d603b37c",
   "metadata": {
    "execution": {
     "iopub.execute_input": "2022-12-17T04:33:01.089769Z",
     "iopub.status.busy": "2022-12-17T04:33:01.089338Z",
     "iopub.status.idle": "2022-12-17T04:33:01.094914Z",
     "shell.execute_reply": "2022-12-17T04:33:01.093237Z"
    },
    "papermill": {
     "duration": 0.042139,
     "end_time": "2022-12-17T04:33:01.097472",
     "exception": false,
     "start_time": "2022-12-17T04:33:01.055333",
     "status": "completed"
    },
    "tags": []
   },
   "outputs": [],
   "source": [
    "# print(\"Number of finished trials: {}\".format(len(study.trials)))\n",
    "\n",
    "# print(\"Best trial:\")\n",
    "# trial = study.best_trial\n",
    "\n",
    "# print(\"  Value: {}\".format(trial.value))\n",
    "\n",
    "# print(\"  Params: \")\n",
    "# for key, value in trial.params.items():\n",
    "#     print(\"    {}: {}\".format(key, value))"
   ]
  },
  {
   "cell_type": "code",
   "execution_count": 59,
   "id": "409b68be",
   "metadata": {
    "execution": {
     "iopub.execute_input": "2022-12-17T04:33:01.166267Z",
     "iopub.status.busy": "2022-12-17T04:33:01.165812Z",
     "iopub.status.idle": "2022-12-17T04:33:01.171584Z",
     "shell.execute_reply": "2022-12-17T04:33:01.170013Z"
    },
    "papermill": {
     "duration": 0.04362,
     "end_time": "2022-12-17T04:33:01.174378",
     "exception": false,
     "start_time": "2022-12-17T04:33:01.130758",
     "status": "completed"
    },
    "tags": []
   },
   "outputs": [],
   "source": [
    "# df_test = df_train[8693:]\n",
    "# model = CatBoostClassifier(**trial.params, verbose=False)\n",
    "# model.fit(X, y)\n",
    "# prediction = model.predict(df_test)\n",
    "# cv_results = cross_validate(model, X, y, cv=10, scoring=[\"accuracy\", \"f1\", \"roc_auc\"])\n",
    "# print(f\"Accuracy: {cv_results['test_accuracy'].mean()}\")\n",
    "# print(f\"F1Score: {cv_results['test_f1'].mean()}\")\n",
    "# print(f\"ROC_AUC: {cv_results['test_roc_auc'].mean()}\")"
   ]
  }
 ],
 "metadata": {
  "kernelspec": {
   "display_name": "Python 3",
   "language": "python",
   "name": "python3"
  },
  "language_info": {
   "codemirror_mode": {
    "name": "ipython",
    "version": 3
   },
   "file_extension": ".py",
   "mimetype": "text/x-python",
   "name": "python",
   "nbconvert_exporter": "python",
   "pygments_lexer": "ipython3",
   "version": "3.7.12"
  },
  "papermill": {
   "default_parameters": {},
   "duration": 259.576212,
   "end_time": "2022-12-17T04:33:03.835309",
   "environment_variables": {},
   "exception": null,
   "input_path": "__notebook__.ipynb",
   "output_path": "__notebook__.ipynb",
   "parameters": {},
   "start_time": "2022-12-17T04:28:44.259097",
   "version": "2.3.4"
  }
 },
 "nbformat": 4,
 "nbformat_minor": 5
}
